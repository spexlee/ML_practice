{
 "cells": [
  {
   "cell_type": "markdown",
   "metadata": {},
   "source": [
    "# 시카고 샌드위치 맛집 분석\n",
    "## [학습목표]\n",
    "- 웹 데이터를 가져오는 Beautiful Soup 익히기\n",
    "- 크롬 개발자 도구를 이용해서 원하는 태그 찾기\n",
    "- 시카고 샌드위치 맛집 소개 사이트에 접근하기\n",
    "- 접근한 웹 페이지에서 원하는 데이터 추출하고 정리하기\n",
    "- 다수의 웹페이지에서 자동으로 접근해서 원하는 정보 가져오기\n",
    "- Jupyter notebook 상태 진행바 생성\n",
    "- 상태 진행바 적용 페이지 접근하기\n",
    "- 50개 웹페이지 정보 가져오기\n",
    "- 맛집 위치를 지도에 표시하기"
   ]
  },
  {
   "cell_type": "code",
   "execution_count": 1,
   "metadata": {},
   "outputs": [],
   "source": [
    "# BeautifulSoup 연습\n",
    "# bs4 모듈.BeautifulSoup 이라는 클래스\n",
    "from bs4 import BeautifulSoup"
   ]
  },
  {
   "cell_type": "code",
   "execution_count": 2,
   "metadata": {},
   "outputs": [
    {
     "data": {
      "text/plain": [
       "'<!DOCTYPE html>\\n<html>\\n    <head>\\n        <title>Very Simple HTML Code by PinkWink</title>\\n    </head>\\n    <body>\\n        <div>\\n            <p class=\"inner-text first-item\" id=\"first\">\\n                Happy PinkWink.\\n                <a href=\"http://www.pinkwink.kr\" id=\"pw-link\">PinkWink</a>\\n            </p>\\n            <p class=\"inner-text second-item\">\\n                Happy Data Science.\\n                <a href=\"https://www.python.org\" id=\"py-link\">Python</a>\\n            </p>\\n        </div>\\n        <p class=\"outer-text first-item\" id=\"second\">\\n            <b>\\n                Data Science is funny.\\n            </b>\\n        </p>\\n        <p class=\"outer-text\">\\n            <b>\\n                All I need is Love.\\n            </b>\\n        </p>\\n    </body>\\n</html>'"
      ]
     },
     "execution_count": 2,
     "metadata": {},
     "output_type": "execute_result"
    }
   ],
   "source": [
    "# html 예제 파일 읽기\n",
    "page = open('./data_01/03. test_first.html', 'r').read() # r모드 \n",
    "page"
   ]
  },
  {
   "cell_type": "code",
   "execution_count": 3,
   "metadata": {},
   "outputs": [
    {
     "name": "stdout",
     "output_type": "stream",
     "text": [
      "<!DOCTYPE html>\n",
      "<html>\n",
      " <head>\n",
      "  <title>\n",
      "   Very Simple HTML Code by PinkWink\n",
      "  </title>\n",
      " </head>\n",
      " <body>\n",
      "  <div>\n",
      "   <p class=\"inner-text first-item\" id=\"first\">\n",
      "    Happy PinkWink.\n",
      "    <a href=\"http://www.pinkwink.kr\" id=\"pw-link\">\n",
      "     PinkWink\n",
      "    </a>\n",
      "   </p>\n",
      "   <p class=\"inner-text second-item\">\n",
      "    Happy Data Science.\n",
      "    <a href=\"https://www.python.org\" id=\"py-link\">\n",
      "     Python\n",
      "    </a>\n",
      "   </p>\n",
      "  </div>\n",
      "  <p class=\"outer-text first-item\" id=\"second\">\n",
      "   <b>\n",
      "    Data Science is funny.\n",
      "   </b>\n",
      "  </p>\n",
      "  <p class=\"outer-text\">\n",
      "   <b>\n",
      "    All I need is Love.\n",
      "   </b>\n",
      "  </p>\n",
      " </body>\n",
      "</html>\n"
     ]
    }
   ],
   "source": [
    "# 파싱 => Dom Tree object 생성\n",
    "soup = BeautifulSoup(page, 'html.parser') # html로 파싱 => DOM Tree 생성\n",
    "print(soup.prettify())"
   ]
  },
  {
   "cell_type": "code",
   "execution_count": 4,
   "metadata": {},
   "outputs": [
    {
     "data": {
      "text/plain": [
       "['html',\n",
       " '\\n',\n",
       " <html>\n",
       " <head>\n",
       " <title>Very Simple HTML Code by PinkWink</title>\n",
       " </head>\n",
       " <body>\n",
       " <div>\n",
       " <p class=\"inner-text first-item\" id=\"first\">\n",
       "                 Happy PinkWink.\n",
       "                 <a href=\"http://www.pinkwink.kr\" id=\"pw-link\">PinkWink</a>\n",
       " </p>\n",
       " <p class=\"inner-text second-item\">\n",
       "                 Happy Data Science.\n",
       "                 <a href=\"https://www.python.org\" id=\"py-link\">Python</a>\n",
       " </p>\n",
       " </div>\n",
       " <p class=\"outer-text first-item\" id=\"second\">\n",
       " <b>\n",
       "                 Data Science is funny.\n",
       "             </b>\n",
       " </p>\n",
       " <p class=\"outer-text\">\n",
       " <b>\n",
       "                 All I need is Love.\n",
       "             </b>\n",
       " </p>\n",
       " </body>\n",
       " </html>]"
      ]
     },
     "execution_count": 4,
     "metadata": {},
     "output_type": "execute_result"
    }
   ],
   "source": [
    "# CSS selection\n",
    "list(soup.children)"
   ]
  },
  {
   "cell_type": "code",
   "execution_count": 5,
   "metadata": {},
   "outputs": [
    {
     "data": {
      "text/plain": [
       "<html>\n",
       "<head>\n",
       "<title>Very Simple HTML Code by PinkWink</title>\n",
       "</head>\n",
       "<body>\n",
       "<div>\n",
       "<p class=\"inner-text first-item\" id=\"first\">\n",
       "                Happy PinkWink.\n",
       "                <a href=\"http://www.pinkwink.kr\" id=\"pw-link\">PinkWink</a>\n",
       "</p>\n",
       "<p class=\"inner-text second-item\">\n",
       "                Happy Data Science.\n",
       "                <a href=\"https://www.python.org\" id=\"py-link\">Python</a>\n",
       "</p>\n",
       "</div>\n",
       "<p class=\"outer-text first-item\" id=\"second\">\n",
       "<b>\n",
       "                Data Science is funny.\n",
       "            </b>\n",
       "</p>\n",
       "<p class=\"outer-text\">\n",
       "<b>\n",
       "                All I need is Love.\n",
       "            </b>\n",
       "</p>\n",
       "</body>\n",
       "</html>"
      ]
     },
     "execution_count": 5,
     "metadata": {},
     "output_type": "execute_result"
    }
   ],
   "source": [
    "html = list(soup.children)[2] # soup => html\n",
    "html"
   ]
  },
  {
   "cell_type": "markdown",
   "metadata": {},
   "source": [
    "- html만 나옴!"
   ]
  },
  {
   "cell_type": "code",
   "execution_count": 6,
   "metadata": {},
   "outputs": [
    {
     "data": {
      "text/plain": [
       "['\\n',\n",
       " <head>\n",
       " <title>Very Simple HTML Code by PinkWink</title>\n",
       " </head>,\n",
       " '\\n',\n",
       " <body>\n",
       " <div>\n",
       " <p class=\"inner-text first-item\" id=\"first\">\n",
       "                 Happy PinkWink.\n",
       "                 <a href=\"http://www.pinkwink.kr\" id=\"pw-link\">PinkWink</a>\n",
       " </p>\n",
       " <p class=\"inner-text second-item\">\n",
       "                 Happy Data Science.\n",
       "                 <a href=\"https://www.python.org\" id=\"py-link\">Python</a>\n",
       " </p>\n",
       " </div>\n",
       " <p class=\"outer-text first-item\" id=\"second\">\n",
       " <b>\n",
       "                 Data Science is funny.\n",
       "             </b>\n",
       " </p>\n",
       " <p class=\"outer-text\">\n",
       " <b>\n",
       "                 All I need is Love.\n",
       "             </b>\n",
       " </p>\n",
       " </body>,\n",
       " '\\n']"
      ]
     },
     "execution_count": 6,
     "metadata": {},
     "output_type": "execute_result"
    }
   ],
   "source": [
    "list(html.children)"
   ]
  },
  {
   "cell_type": "markdown",
   "metadata": {},
   "source": [
    "이 소스에서는 \\n이 들어간 부분부터 인덱스가 주어짐"
   ]
  },
  {
   "cell_type": "code",
   "execution_count": 7,
   "metadata": {},
   "outputs": [
    {
     "data": {
      "text/plain": [
       "<body>\n",
       "<div>\n",
       "<p class=\"inner-text first-item\" id=\"first\">\n",
       "                Happy PinkWink.\n",
       "                <a href=\"http://www.pinkwink.kr\" id=\"pw-link\">PinkWink</a>\n",
       "</p>\n",
       "<p class=\"inner-text second-item\">\n",
       "                Happy Data Science.\n",
       "                <a href=\"https://www.python.org\" id=\"py-link\">Python</a>\n",
       "</p>\n",
       "</div>\n",
       "<p class=\"outer-text first-item\" id=\"second\">\n",
       "<b>\n",
       "                Data Science is funny.\n",
       "            </b>\n",
       "</p>\n",
       "<p class=\"outer-text\">\n",
       "<b>\n",
       "                All I need is Love.\n",
       "            </b>\n",
       "</p>\n",
       "</body>"
      ]
     },
     "execution_count": 7,
     "metadata": {},
     "output_type": "execute_result"
    }
   ],
   "source": [
    "body = list(html.children)[3]\n",
    "body"
   ]
  },
  {
   "cell_type": "code",
   "execution_count": 8,
   "metadata": {},
   "outputs": [
    {
     "data": {
      "text/plain": [
       "<body>\n",
       "<div>\n",
       "<p class=\"inner-text first-item\" id=\"first\">\n",
       "                Happy PinkWink.\n",
       "                <a href=\"http://www.pinkwink.kr\" id=\"pw-link\">PinkWink</a>\n",
       "</p>\n",
       "<p class=\"inner-text second-item\">\n",
       "                Happy Data Science.\n",
       "                <a href=\"https://www.python.org\" id=\"py-link\">Python</a>\n",
       "</p>\n",
       "</div>\n",
       "<p class=\"outer-text first-item\" id=\"second\">\n",
       "<b>\n",
       "                Data Science is funny.\n",
       "            </b>\n",
       "</p>\n",
       "<p class=\"outer-text\">\n",
       "<b>\n",
       "                All I need is Love.\n",
       "            </b>\n",
       "</p>\n",
       "</body>"
      ]
     },
     "execution_count": 8,
     "metadata": {},
     "output_type": "execute_result"
    }
   ],
   "source": [
    "soup.body #(list(soup.children)[2]).children[3]"
   ]
  },
  {
   "cell_type": "markdown",
   "metadata": {},
   "source": [
    "soup.body로 입력하면, body = list(html.children)[3]와 동일한 값이 나옴\n",
    "- body라는 태그를 선택한 것!"
   ]
  },
  {
   "cell_type": "code",
   "execution_count": 9,
   "metadata": {},
   "outputs": [
    {
     "data": {
      "text/plain": [
       "7"
      ]
     },
     "execution_count": 9,
     "metadata": {},
     "output_type": "execute_result"
    }
   ],
   "source": [
    "len(list(body.children))"
   ]
  },
  {
   "cell_type": "code",
   "execution_count": 10,
   "metadata": {},
   "outputs": [
    {
     "data": {
      "text/plain": [
       "[<p class=\"inner-text first-item\" id=\"first\">\n",
       "                 Happy PinkWink.\n",
       "                 <a href=\"http://www.pinkwink.kr\" id=\"pw-link\">PinkWink</a>\n",
       " </p>,\n",
       " <p class=\"inner-text second-item\">\n",
       "                 Happy Data Science.\n",
       "                 <a href=\"https://www.python.org\" id=\"py-link\">Python</a>\n",
       " </p>,\n",
       " <p class=\"outer-text first-item\" id=\"second\">\n",
       " <b>\n",
       "                 Data Science is funny.\n",
       "             </b>\n",
       " </p>,\n",
       " <p class=\"outer-text\">\n",
       " <b>\n",
       "                 All I need is Love.\n",
       "             </b>\n",
       " </p>]"
      ]
     },
     "execution_count": 10,
     "metadata": {},
     "output_type": "execute_result"
    }
   ],
   "source": [
    "soup.find_all('p') # p 태그를 다 찾아라! => selection (태그 선택자) \n",
    "#  => 리스트로 나옴"
   ]
  },
  {
   "cell_type": "markdown",
   "metadata": {},
   "source": [
    "- Dom Tree가 만들어져 있기 때문에 위의 코드 가능"
   ]
  },
  {
   "cell_type": "markdown",
   "metadata": {},
   "source": [
    "#### 리스트로 리턴된다는 것은 반복문 !! 사용 가능!! "
   ]
  },
  {
   "cell_type": "code",
   "execution_count": 11,
   "metadata": {},
   "outputs": [
    {
     "data": {
      "text/plain": [
       "<p class=\"inner-text first-item\" id=\"first\">\n",
       "                Happy PinkWink.\n",
       "                <a href=\"http://www.pinkwink.kr\" id=\"pw-link\">PinkWink</a>\n",
       "</p>"
      ]
     },
     "execution_count": 11,
     "metadata": {},
     "output_type": "execute_result"
    }
   ],
   "source": [
    "soup.find('p') # p 태그의 첫번째 것만 찾아라 !"
   ]
  },
  {
   "cell_type": "markdown",
   "metadata": {},
   "source": [
    "- 첫번째 p 태그 object를 찾는 것!"
   ]
  },
  {
   "cell_type": "code",
   "execution_count": 12,
   "metadata": {},
   "outputs": [
    {
     "data": {
      "text/plain": [
       "[<p class=\"outer-text first-item\" id=\"second\">\n",
       " <b>\n",
       "                 Data Science is funny.\n",
       "             </b>\n",
       " </p>,\n",
       " <p class=\"outer-text\">\n",
       " <b>\n",
       "                 All I need is Love.\n",
       "             </b>\n",
       " </p>]"
      ]
     },
     "execution_count": 12,
     "metadata": {},
     "output_type": "execute_result"
    }
   ],
   "source": [
    "soup.find_all('p', class_='outer-text') # class_ : 클래스를 찾을 때 사용"
   ]
  },
  {
   "cell_type": "markdown",
   "metadata": {},
   "source": [
    "- **클래스** 를 선택하면 조금더 정밀하게 찾을 수 있다"
   ]
  },
  {
   "cell_type": "code",
   "execution_count": 13,
   "metadata": {},
   "outputs": [
    {
     "data": {
      "text/plain": [
       "[<p class=\"outer-text first-item\" id=\"second\">\n",
       " <b>\n",
       "                 Data Science is funny.\n",
       "             </b>\n",
       " </p>,\n",
       " <p class=\"outer-text\">\n",
       " <b>\n",
       "                 All I need is Love.\n",
       "             </b>\n",
       " </p>]"
      ]
     },
     "execution_count": 13,
     "metadata": {},
     "output_type": "execute_result"
    }
   ],
   "source": [
    "# class_ : 클래스를 찾을 때 사용, 중복이 안되는 경우 p태그 없이도 검색가능! \n",
    "soup.find_all(class_='outer-text') "
   ]
  },
  {
   "cell_type": "code",
   "execution_count": 14,
   "metadata": {},
   "outputs": [
    {
     "data": {
      "text/plain": [
       "[<p class=\"inner-text first-item\" id=\"first\">\n",
       "                 Happy PinkWink.\n",
       "                 <a href=\"http://www.pinkwink.kr\" id=\"pw-link\">PinkWink</a>\n",
       " </p>]"
      ]
     },
     "execution_count": 14,
     "metadata": {},
     "output_type": "execute_result"
    }
   ],
   "source": [
    "soup.find_all(id='first') # id로 검색 가능!"
   ]
  },
  {
   "cell_type": "markdown",
   "metadata": {},
   "source": [
    "### find_all의 리턴타입은 0개 라도 리스트로 리턴됨!"
   ]
  },
  {
   "cell_type": "code",
   "execution_count": 15,
   "metadata": {},
   "outputs": [
    {
     "data": {
      "text/plain": [
       "bs4.element.Tag"
      ]
     },
     "execution_count": 15,
     "metadata": {},
     "output_type": "execute_result"
    }
   ],
   "source": [
    "type(soup.find('p')) # 첫번째 p를 찾는다"
   ]
  },
  {
   "cell_type": "markdown",
   "metadata": {},
   "source": [
    "Tag 라는 object가 나옴"
   ]
  },
  {
   "cell_type": "code",
   "execution_count": 16,
   "metadata": {},
   "outputs": [
    {
     "data": {
      "text/plain": [
       "bs4.element.ResultSet"
      ]
     },
     "execution_count": 16,
     "metadata": {},
     "output_type": "execute_result"
    }
   ],
   "source": [
    "type(soup.find_all('p'))"
   ]
  },
  {
   "cell_type": "markdown",
   "metadata": {},
   "source": [
    "ResultSet => List\n",
    "\n",
    "#### ResultSet 안에 하나하나 Tag 라는 object가 들어있음을 알 수 있음"
   ]
  },
  {
   "cell_type": "code",
   "execution_count": 17,
   "metadata": {},
   "outputs": [
    {
     "data": {
      "text/plain": [
       "bs4.BeautifulSoup"
      ]
     },
     "execution_count": 17,
     "metadata": {},
     "output_type": "execute_result"
    }
   ],
   "source": [
    "type(soup)"
   ]
  },
  {
   "cell_type": "markdown",
   "metadata": {},
   "source": [
    "BeautifulSoup이라는 object"
   ]
  },
  {
   "cell_type": "code",
   "execution_count": 18,
   "metadata": {},
   "outputs": [
    {
     "data": {
      "text/plain": [
       "list_iterator"
      ]
     },
     "execution_count": 18,
     "metadata": {},
     "output_type": "execute_result"
    }
   ],
   "source": [
    "type(soup.children)"
   ]
  },
  {
   "cell_type": "markdown",
   "metadata": {},
   "source": [
    "list_iterator : iterable 한 놈 => list는 (X)"
   ]
  },
  {
   "cell_type": "code",
   "execution_count": 19,
   "metadata": {},
   "outputs": [
    {
     "data": {
      "text/plain": [
       "bs4.element.Tag"
      ]
     },
     "execution_count": 19,
     "metadata": {},
     "output_type": "execute_result"
    }
   ],
   "source": [
    "type(soup.head) # == type(soup.p)"
   ]
  },
  {
   "cell_type": "markdown",
   "metadata": {},
   "source": [
    "Tag object가 나옴!"
   ]
  },
  {
   "cell_type": "code",
   "execution_count": 20,
   "metadata": {},
   "outputs": [
    {
     "data": {
      "text/plain": [
       "['html',\n",
       " '\\n',\n",
       " <html>\n",
       " <head>\n",
       " <title>Very Simple HTML Code by PinkWink</title>\n",
       " </head>\n",
       " <body>\n",
       " <div>\n",
       " <p class=\"inner-text first-item\" id=\"first\">\n",
       "                 Happy PinkWink.\n",
       "                 <a href=\"http://www.pinkwink.kr\" id=\"pw-link\">PinkWink</a>\n",
       " </p>\n",
       " <p class=\"inner-text second-item\">\n",
       "                 Happy Data Science.\n",
       "                 <a href=\"https://www.python.org\" id=\"py-link\">Python</a>\n",
       " </p>\n",
       " </div>\n",
       " <p class=\"outer-text first-item\" id=\"second\">\n",
       " <b>\n",
       "                 Data Science is funny.\n",
       "             </b>\n",
       " </p>\n",
       " <p class=\"outer-text\">\n",
       " <b>\n",
       "                 All I need is Love.\n",
       "             </b>\n",
       " </p>\n",
       " </body>\n",
       " </html>]"
      ]
     },
     "execution_count": 20,
     "metadata": {},
     "output_type": "execute_result"
    }
   ],
   "source": [
    "list(soup)"
   ]
  },
  {
   "cell_type": "code",
   "execution_count": 21,
   "metadata": {},
   "outputs": [
    {
     "data": {
      "text/plain": [
       "<head>\n",
       "<title>Very Simple HTML Code by PinkWink</title>\n",
       "</head>"
      ]
     },
     "execution_count": 21,
     "metadata": {},
     "output_type": "execute_result"
    }
   ],
   "source": [
    "soup.head"
   ]
  },
  {
   "cell_type": "code",
   "execution_count": 22,
   "metadata": {},
   "outputs": [
    {
     "data": {
      "text/plain": [
       "'\\n'"
      ]
     },
     "execution_count": 22,
     "metadata": {},
     "output_type": "execute_result"
    }
   ],
   "source": [
    "soup.head.next_sibling # 같은 라인을 의미함 (다른 자식들)"
   ]
  },
  {
   "cell_type": "markdown",
   "metadata": {},
   "source": [
    "body를 가져오려면 head를 기준으로 두번 next 해야 body를 가져옴!"
   ]
  },
  {
   "cell_type": "code",
   "execution_count": 23,
   "metadata": {},
   "outputs": [
    {
     "data": {
      "text/plain": [
       "<body>\n",
       "<div>\n",
       "<p class=\"inner-text first-item\" id=\"first\">\n",
       "                Happy PinkWink.\n",
       "                <a href=\"http://www.pinkwink.kr\" id=\"pw-link\">PinkWink</a>\n",
       "</p>\n",
       "<p class=\"inner-text second-item\">\n",
       "                Happy Data Science.\n",
       "                <a href=\"https://www.python.org\" id=\"py-link\">Python</a>\n",
       "</p>\n",
       "</div>\n",
       "<p class=\"outer-text first-item\" id=\"second\">\n",
       "<b>\n",
       "                Data Science is funny.\n",
       "            </b>\n",
       "</p>\n",
       "<p class=\"outer-text\">\n",
       "<b>\n",
       "                All I need is Love.\n",
       "            </b>\n",
       "</p>\n",
       "</body>"
      ]
     },
     "execution_count": 23,
     "metadata": {},
     "output_type": "execute_result"
    }
   ],
   "source": [
    "soup.head.next_sibling.next_sibling"
   ]
  },
  {
   "cell_type": "code",
   "execution_count": 24,
   "metadata": {},
   "outputs": [
    {
     "data": {
      "text/plain": [
       "'\\n'"
      ]
     },
     "execution_count": 24,
     "metadata": {},
     "output_type": "execute_result"
    }
   ],
   "source": [
    "soup.head.previous_sibling # 이전 형제들"
   ]
  },
  {
   "cell_type": "code",
   "execution_count": 25,
   "metadata": {},
   "outputs": [
    {
     "data": {
      "text/plain": [
       "<head>\n",
       "<title>Very Simple HTML Code by PinkWink</title>\n",
       "</head>"
      ]
     },
     "execution_count": 25,
     "metadata": {},
     "output_type": "execute_result"
    }
   ],
   "source": [
    "soup.body.previous_sibling.previous_sibling # 이전 형제들 불러오기"
   ]
  },
  {
   "cell_type": "code",
   "execution_count": 26,
   "metadata": {},
   "outputs": [
    {
     "data": {
      "text/plain": [
       "<p class=\"inner-text first-item\" id=\"first\">\n",
       "                Happy PinkWink.\n",
       "                <a href=\"http://www.pinkwink.kr\" id=\"pw-link\">PinkWink</a>\n",
       "</p>"
      ]
     },
     "execution_count": 26,
     "metadata": {},
     "output_type": "execute_result"
    }
   ],
   "source": [
    "body.p"
   ]
  },
  {
   "cell_type": "code",
   "execution_count": 27,
   "metadata": {},
   "outputs": [
    {
     "data": {
      "text/plain": [
       "<p class=\"inner-text first-item\" id=\"first\">\n",
       "                Happy PinkWink.\n",
       "                <a href=\"http://www.pinkwink.kr\" id=\"pw-link\">PinkWink</a>\n",
       "</p>"
      ]
     },
     "execution_count": 27,
     "metadata": {},
     "output_type": "execute_result"
    }
   ],
   "source": [
    "soup.html.body.p # soup.find('p')"
   ]
  },
  {
   "cell_type": "markdown",
   "metadata": {},
   "source": [
    "Dom Tree가 만들어졌기 때문에, 부모자식, 형제들이 생기는 것!"
   ]
  },
  {
   "cell_type": "code",
   "execution_count": 28,
   "metadata": {},
   "outputs": [
    {
     "data": {
      "text/plain": [
       "[<p class=\"inner-text first-item\" id=\"first\">\n",
       "                 Happy PinkWink.\n",
       "                 <a href=\"http://www.pinkwink.kr\" id=\"pw-link\">PinkWink</a>\n",
       " </p>,\n",
       " <p class=\"inner-text second-item\">\n",
       "                 Happy Data Science.\n",
       "                 <a href=\"https://www.python.org\" id=\"py-link\">Python</a>\n",
       " </p>,\n",
       " <p class=\"outer-text first-item\" id=\"second\">\n",
       " <b>\n",
       "                 Data Science is funny.\n",
       "             </b>\n",
       " </p>,\n",
       " <p class=\"outer-text\">\n",
       " <b>\n",
       "                 All I need is Love.\n",
       "             </b>\n",
       " </p>]"
      ]
     },
     "execution_count": 28,
     "metadata": {},
     "output_type": "execute_result"
    }
   ],
   "source": [
    "soup.find_all('p')"
   ]
  },
  {
   "cell_type": "code",
   "execution_count": 29,
   "metadata": {},
   "outputs": [
    {
     "name": "stdout",
     "output_type": "stream",
     "text": [
      "\n",
      "                Happy PinkWink.\n",
      "                PinkWink\n",
      "\n",
      "\n",
      "                Happy Data Science.\n",
      "                Python\n",
      "\n",
      "\n",
      "\n",
      "                Data Science is funny.\n",
      "            \n",
      "\n",
      "\n",
      "\n",
      "                All I need is Love.\n",
      "            \n",
      "\n"
     ]
    }
   ],
   "source": [
    "# tmp_tag : p Tag object\n",
    "for tmp_tag in soup.find_all('p'):\n",
    "    print(tmp_tag.get_text()) # get_text() : 텍스트만추출! "
   ]
  },
  {
   "cell_type": "markdown",
   "metadata": {},
   "source": [
    "**get_text()** : tag를 뺀 text만 추출!"
   ]
  },
  {
   "cell_type": "code",
   "execution_count": 30,
   "metadata": {},
   "outputs": [
    {
     "data": {
      "text/plain": [
       "'\\n\\n\\n                Happy PinkWink.\\n                PinkWink\\n\\n\\n                Happy Data Science.\\n                Python\\n\\n\\n\\n\\n                Data Science is funny.\\n            \\n\\n\\n\\n                All I need is Love.\\n            \\n\\n'"
      ]
     },
     "execution_count": 30,
     "metadata": {},
     "output_type": "execute_result"
    }
   ],
   "source": [
    "body.get_text()"
   ]
  },
  {
   "cell_type": "markdown",
   "metadata": {},
   "source": [
    "공백도 문자! body를 가지고 get_text 할 일 없음\n",
    "- targetting 하는 것이 바람직!"
   ]
  },
  {
   "cell_type": "code",
   "execution_count": 31,
   "metadata": {},
   "outputs": [
    {
     "data": {
      "text/plain": [
       "[<a href=\"http://www.pinkwink.kr\" id=\"pw-link\">PinkWink</a>,\n",
       " <a href=\"https://www.python.org\" id=\"py-link\">Python</a>]"
      ]
     },
     "execution_count": 31,
     "metadata": {},
     "output_type": "execute_result"
    }
   ],
   "source": [
    "# a 태그 찾기\n",
    "soup.find_all('a')"
   ]
  },
  {
   "cell_type": "markdown",
   "metadata": {},
   "source": [
    "find_all 하면 리스트로 나옴!"
   ]
  },
  {
   "cell_type": "code",
   "execution_count": 32,
   "metadata": {},
   "outputs": [
    {
     "name": "stdout",
     "output_type": "stream",
     "text": [
      "PinkWink -> http://www.pinkwink.kr\n",
      "Python -> https://www.python.org\n"
     ]
    }
   ],
   "source": [
    "for tmp_tag in soup.find_all('a'):\n",
    "    # attribute 속성 접근 => value값 가져올 수 있음\n",
    "    href_value = tmp_tag['href']\n",
    "    text = tmp_tag.string\n",
    "    print(text + ' -> ' + href_value)"
   ]
  },
  {
   "cell_type": "markdown",
   "metadata": {},
   "source": [
    "---\n",
    "## 크롬 개발자 도구를 이용해서 원하는 태그 찾기"
   ]
  },
  {
   "cell_type": "markdown",
   "metadata": {},
   "source": [
    "### 원 달러 가격 추출"
   ]
  },
  {
   "cell_type": "code",
   "execution_count": 33,
   "metadata": {},
   "outputs": [],
   "source": [
    "# 원 달러 가격 추출\n",
    "# https://finance.naver.com/marketindex/\n",
    "\n",
    "# urlopen : 웹 상에 있는 파일을 가져옴\n",
    "from urllib.request import urlopen"
   ]
  },
  {
   "cell_type": "code",
   "execution_count": 34,
   "metadata": {},
   "outputs": [
    {
     "data": {
      "text/plain": [
       "<http.client.HTTPResponse at 0x1aa722a69c8>"
      ]
     },
     "execution_count": 34,
     "metadata": {},
     "output_type": "execute_result"
    }
   ],
   "source": [
    "url = 'https://finance.naver.com/marketindex/'\n",
    "page = urlopen(url)\n",
    "page"
   ]
  },
  {
   "cell_type": "code",
   "execution_count": 35,
   "metadata": {},
   "outputs": [
    {
     "data": {
      "text/plain": [
       "\n",
       "<script language=\"javascript\" src=\"/template/head_js.nhn?referer=info.finance.naver.com&amp;menu=marketindex&amp;submenu=market\"></script>\n",
       "<script src=\"https://ssl.pstatic.net/imgstock/static.pc/20210325123932/js/info/jindo.min.ns.1.5.3.euckr.js\" type=\"text/javascript\"></script>\n",
       "<script src=\"https://ssl.pstatic.net/imgstock/static.pc/20210325123932/js/jindo.1.5.3.element-text-patch.js\" type=\"text/javascript\"></script>\n",
       "<div id=\"container\" style=\"padding-bottom:0px;\">\n",
       "<div class=\"market_include\">\n",
       "<div class=\"market_data\">\n",
       "<div class=\"market1\">\n",
       "<div class=\"title\">\n",
       "<h2 class=\"h_market1\"><span>환전 고시 환율</span></h2>\n",
       "</div>\n",
       "<!-- data -->\n",
       "<div class=\"data\">\n",
       "<ul class=\"data_lst\" id=\"exchangeList\">\n",
       "<li class=\"on\">\n",
       "<a class=\"head usd\" href=\"/marketindex/exchangeDetail.nhn?marketindexCd=FX_USDKRW\" onclick=\"clickcr(this, 'fr1.usdt', '', '', event);\">\n",
       "<h3 class=\"h_lst\"><span class=\"blind\">미국 USD</span></h3>\n",
       "<div class=\"head_info point_up\">\n",
       "<span class=\"value\">1,133.80</span>\n",
       "<span class=\"txt_krw\"><span class=\"blind\">원</span></span>\n",
       "<span class=\"change\">1.30</span>\n",
       "<span class=\"blind\">상승</span>\n",
       "</div>\n",
       "</a>\n",
       "<a class=\"graph_img\" href=\"/marketindex/exchangeDetail.nhn?marketindexCd=FX_USDKRW\" onclick=\"clickcr(this, 'fr1.usdc', '', '', event);\">\n",
       "<img alt=\"\" height=\"153\" src=\"https://ssl.pstatic.net/imgfinance/chart/marketindex/FX_USDKRW.png\" width=\"295\"/>\n",
       "</a>\n",
       "<div class=\"graph_info\">\n",
       "<span class=\"time\">2021.03.30 13:53</span>\n",
       "<span class=\"source\">하나은행 기준</span>\n",
       "<span class=\"count\">고시회차<span class=\"num\">135</span>회</span>\n",
       "</div>\n",
       "</li>\n",
       "<li class=\"\">\n",
       "<a class=\"head jpy\" href=\"/marketindex/exchangeDetail.nhn?marketindexCd=FX_JPYKRW\" onclick=\"clickcr(this, 'fr1.jpyt', '', '', event);\">\n",
       "<h3 class=\"h_lst\"><span class=\"blind\">일본 JPY(100엔)</span></h3>\n",
       "<div class=\"head_info point_dn\">\n",
       "<span class=\"value\">1,031.29</span>\n",
       "<span class=\"txt_krw\"><span class=\"blind\">원</span></span>\n",
       "<span class=\"change\"> 2.25</span>\n",
       "<span class=\"blind\">하락</span>\n",
       "</div>\n",
       "</a>\n",
       "<a class=\"graph_img\" href=\"/marketindex/exchangeDetail.nhn?marketindexCd=FX_JPYKRW\" onclick=\"clickcr(this, 'fr1.jpyc', '', '', event);\">\n",
       "<img alt=\"\" height=\"153\" src=\"https://ssl.pstatic.net/imgfinance/chart/marketindex/FX_JPYKRW.png\" width=\"295\"/>\n",
       "</a>\n",
       "<div class=\"graph_info\">\n",
       "<span class=\"time\">2021.03.30 13:53</span>\n",
       "<span class=\"source\">하나은행 기준</span>\n",
       "<span class=\"count\">고시회차<span class=\"num\">135</span>회</span>\n",
       "</div>\n",
       "</li>\n",
       "<li class=\"\">\n",
       "<a class=\"head eur\" href=\"/marketindex/exchangeDetail.nhn?marketindexCd=FX_EURKRW\" onclick=\"clickcr(this, 'fr1.eurt', '', '', event);\">\n",
       "<h3 class=\"h_lst\"><span class=\"blind\">유럽연합 EUR</span></h3>\n",
       "<div class=\"head_info point_up\">\n",
       "<span class=\"value\">1,334.03</span>\n",
       "<span class=\"txt_krw\"><span class=\"blind\">원</span></span>\n",
       "<span class=\"change\">1.13</span>\n",
       "<span class=\"blind\">상승</span>\n",
       "</div>\n",
       "</a>\n",
       "<a class=\"graph_img\" href=\"/marketindex/exchangeDetail.nhn?marketindexCd=FX_EURKRW\" onclick=\"clickcr(this, 'fr1.eurc', '', '', event);\">\n",
       "<img alt=\"\" height=\"153\" src=\"https://ssl.pstatic.net/imgfinance/chart/marketindex/FX_EURKRW.png\" width=\"295\"/>\n",
       "</a>\n",
       "<div class=\"graph_info\">\n",
       "<span class=\"time\">2021.03.30 13:53</span>\n",
       "<span class=\"source\">하나은행 기준</span>\n",
       "<span class=\"count\">고시회차<span class=\"num\">135</span>회</span>\n",
       "</div>\n",
       "</li>\n",
       "<li class=\"\">\n",
       "<a class=\"head cny\" href=\"/marketindex/exchangeDetail.nhn?marketindexCd=FX_CNYKRW\" onclick=\"clickcr(this, 'fr1.cnyt', '', '', event);\">\n",
       "<h3 class=\"h_lst\"><span class=\"blind\">중국 CNY</span></h3>\n",
       "<div class=\"head_info point_dn\">\n",
       "<span class=\"value\">172.42</span>\n",
       "<span class=\"txt_krw\"><span class=\"blind\">원</span></span>\n",
       "<span class=\"change\"> 0.07</span>\n",
       "<span class=\"blind\">하락</span>\n",
       "</div>\n",
       "</a>\n",
       "<a class=\"graph_img\" href=\"/marketindex/exchangeDetail.nhn?marketindexCd=FX_CNYKRW\" onclick=\"clickcr(this, 'fr1.cnyc', '', '', event);\">\n",
       "<img alt=\"\" height=\"153\" src=\"https://ssl.pstatic.net/imgfinance/chart/marketindex/FX_CNYKRW.png\" width=\"295\"/>\n",
       "</a>\n",
       "<div class=\"graph_info\">\n",
       "<span class=\"time\">2021.03.30 13:53</span>\n",
       "<span class=\"source\">하나은행 기준</span>\n",
       "<span class=\"count\">고시회차<span class=\"num\">135</span>회</span>\n",
       "</div>\n",
       "</li>\n",
       "</ul>\n",
       "</div>\n",
       "<!-- //data -->\n",
       "</div>\n",
       "<div class=\"market2\">\n",
       "<div class=\"title\">\n",
       "<h2 class=\"h_market2\"><span>국제 시장 환율</span></h2>\n",
       "</div>\n",
       "<!-- data -->\n",
       "<div class=\"data\">\n",
       "<ul class=\"data_lst\" id=\"worldExchangeList\">\n",
       "<li class=\"on\">\n",
       "<a class=\"head jpy_usd\" href=\"/marketindex/worldExchangeDetail.nhn?marketindexCd=FX_USDJPY\" onclick=\"clickcr(this, 'fr2.jpyut', '', '', event);\">\n",
       "<h3 class=\"h_lst\"><span class=\"blind\">일본 엔/달러</span></h3>\n",
       "<div class=\"head_info point_up\">\n",
       "<span class=\"value\">109.7600</span>\n",
       "<span class=\"txt_jpy\"><span class=\"blind\">엔</span></span>\n",
       "<span class=\"change\">0.1600</span>\n",
       "<span class=\"blind\">상승</span>\n",
       "</div>\n",
       "</a>\n",
       "<a class=\"graph_img\" href=\"/marketindex/worldExchangeDetail.nhn?marketindexCd=FX_USDJPY\" onclick=\"clickcr(this, 'fr2.jpyuc', '', '', event);\">\n",
       "<img alt=\"\" height=\"153\" src=\"https://ssl.pstatic.net/imgfinance/chart/marketindex/FX_USDJPY.png\" width=\"295\"/>\n",
       "</a>\n",
       "<div class=\"graph_info\">\n",
       "<span class=\"time\">2021.03.29</span>\n",
       "<span class=\"source\">모닝스타 기준</span>\n",
       "</div>\n",
       "</li>\n",
       "<li class=\"\">\n",
       "<a class=\"head usd_eur\" href=\"/marketindex/worldExchangeDetail.nhn?marketindexCd=FX_EURUSD\" onclick=\"clickcr(this, 'fr2.eurdt', '', '', event);\">\n",
       "<h3 class=\"h_lst\"><span class=\"blind\">달러/유로</span></h3>\n",
       "<div class=\"head_info point_dn\">\n",
       "<span class=\"value\">1.1766</span>\n",
       "<span class=\"txt_usd\"><span class=\"blind\">달러</span></span>\n",
       "<span class=\"change\"> 0.0057</span>\n",
       "<span class=\"blind\">하락</span>\n",
       "</div>\n",
       "</a>\n",
       "<a class=\"graph_img\" href=\"/marketindex/worldExchangeDetail.nhn?marketindexCd=FX_EURUSD\" onclick=\"clickcr(this, 'fr2.eurdc', '', '', event);\">\n",
       "<img alt=\"\" height=\"153\" src=\"https://ssl.pstatic.net/imgfinance/chart/marketindex/FX_EURUSD.png\" width=\"295\"/>\n",
       "</a>\n",
       "<div class=\"graph_info\">\n",
       "<span class=\"time\">2021.03.29</span>\n",
       "<span class=\"source\">모닝스타 기준</span>\n",
       "</div>\n",
       "</li>\n",
       "<li class=\"\">\n",
       "<a class=\"head usd_gbp\" href=\"/marketindex/worldExchangeDetail.nhn?marketindexCd=FX_GBPUSD\" onclick=\"clickcr(this, 'fr2.gbpdt', '', '', event);\">\n",
       "<h3 class=\"h_lst\"><span class=\"blind\">달러/영국파운드</span></h3>\n",
       "<div class=\"head_info point_dn\">\n",
       "<span class=\"value\">1.3774</span>\n",
       "<span class=\"txt_usd\"><span class=\"blind\">달러</span></span>\n",
       "<span class=\"change\"> 0.0017</span>\n",
       "<span class=\"blind\">하락</span>\n",
       "</div>\n",
       "</a>\n",
       "<a class=\"graph_img\" href=\"/marketindex/worldExchangeDetail.nhn?marketindexCd=FX_GBPUSD\" onclick=\"clickcr(this, 'fr2.gbpdc', '', '', event);\">\n",
       "<img alt=\"\" height=\"153\" src=\"https://ssl.pstatic.net/imgfinance/chart/marketindex/FX_GBPUSD.png\" width=\"295\"/>\n",
       "</a>\n",
       "<div class=\"graph_info\">\n",
       "<span class=\"time\">2021.03.29</span>\n",
       "<span class=\"source\">모닝스타 기준</span>\n",
       "</div>\n",
       "</li>\n",
       "<li class=\"\">\n",
       "<a class=\"head usd_idx\" href=\"/marketindex/worldExchangeDetail.nhn?marketindexCd=FX_USDX\" onclick=\"clickcr(this, 'fr2.indt', '', '', event);\">\n",
       "<h3 class=\"h_lst\"><span class=\"blind\">달러인덱스</span></h3>\n",
       "<div class=\"head_info point_up\">\n",
       "<span class=\"value\">92.9500</span>\n",
       "<span class=\"change\">0.1800</span>\n",
       "<span class=\"blind\">상승</span>\n",
       "</div>\n",
       "</a>\n",
       "<a class=\"graph_img\" href=\"/marketindex/worldExchangeDetail.nhn?marketindexCd=FX_USDX\" onclick=\"clickcr(this, 'fr2.indc', '', '', event);\">\n",
       "<img alt=\"\" height=\"153\" src=\"https://ssl.pstatic.net/imgfinance/chart/marketindex/FX_USDX.png\" width=\"295\"/>\n",
       "</a>\n",
       "<div class=\"graph_info\">\n",
       "<span class=\"time\">2021.03.29</span>\n",
       "<span class=\"source\">ICE 기준</span>\n",
       "</div>\n",
       "</li>\n",
       "</ul>\n",
       "</div>\n",
       "<!-- //data -->\n",
       "</div>\n",
       "<div class=\"market3\">\n",
       "<div class=\"title\">\n",
       "<h2 class=\"h_market3\"><span>유가·금시세</span></h2>\n",
       "</div>\n",
       "<!-- data -->\n",
       "<div class=\"data\">\n",
       "<ul class=\"data_lst\" id=\"oilGoldList\">\n",
       "<li class=\"on\">\n",
       "<a class=\"head wti\" href=\"/marketindex/worldOilDetail.nhn?marketindexCd=OIL_CL&amp;fdtc=2\" onclick=\"clickcr(this, 'fr3.wtit', '', '', event);\">\n",
       "<h3 class=\"h_lst\"><span class=\"blind\">WTI</span></h3>\n",
       "<div class=\"head_info point_up\">\n",
       "<span class=\"value\">61.56</span>\n",
       "<span class=\"txt_usd\"><span class=\"blind\">달러</span></span>\n",
       "<span class=\"change\">0.59</span>\n",
       "<span class=\"blind\">상승</span>\n",
       "</div>\n",
       "</a>\n",
       "<a class=\"graph_img\" href=\"/marketindex/worldOilDetail.nhn?marketindexCd=OIL_CL&amp;fdtc=2\" onclick=\"clickcr(this, 'fr3.wtic', '', '', event);\">\n",
       "<img alt=\"\" height=\"153\" src=\"https://ssl.pstatic.net/imgfinance/chart/marketindex/OIL_CL.png\" width=\"295\"/>\n",
       "</a>\n",
       "<div class=\"graph_info\">\n",
       "<span class=\"time\">2021.03.29</span>\n",
       "<span class=\"source\">NYMEX(뉴욕상업거래소) 기준</span>\n",
       "</div>\n",
       "</li>\n",
       "<li class=\"\">\n",
       "<a class=\"head gasoline\" href=\"/marketindex/oilDetail.nhn?marketindexCd=OIL_GSL\" onclick=\"clickcr(this, 'fr3.oilt', '', '', event);\">\n",
       "<h3 class=\"h_lst\"><span class=\"blind\">휘발유</span></h3>\n",
       "<div class=\"head_info point_up\">\n",
       "<span class=\"value\">1533.6</span>\n",
       "<span class=\"txt_krw\"><span class=\"blind\">원</span></span>\n",
       "<span class=\"change\">0.10</span>\n",
       "<span class=\"blind\">상승</span>\n",
       "</div>\n",
       "</a>\n",
       "<a class=\"graph_img\" href=\"/marketindex/oilDetail.nhn?marketindexCd=OIL_GSL\" onclick=\"clickcr(this, 'fr3.oilc', '', '', event);\">\n",
       "<img alt=\"\" height=\"153\" src=\"https://ssl.pstatic.net/imgfinance/chart/marketindex/OIL_GSL.png\" width=\"295\"/>\n",
       "</a>\n",
       "<div class=\"graph_info\">\n",
       "<span class=\"time\">2021.03.30</span>\n",
       "<span class=\"source\">한국석유공사 Opinet 기준</span>\n",
       "</div>\n",
       "</li>\n",
       "<li class=\"\">\n",
       "<a class=\"head gold_inter\" href=\"/marketindex/worldGoldDetail.nhn?marketindexCd=CMDT_GC&amp;fdtc=2\" onclick=\"clickcr(this, 'fr3.agoldt', '', '', event);\">\n",
       "<h3 class=\"h_lst\"><span class=\"blind\">국제 금</span></h3>\n",
       "<div class=\"head_info point_dn\">\n",
       "<span class=\"value\">1712.2</span>\n",
       "<span class=\"txt_usd\"><span class=\"blind\">달러</span></span>\n",
       "<span class=\"change\"> 20.10</span>\n",
       "<span class=\"blind\">하락</span>\n",
       "</div>\n",
       "</a>\n",
       "<a class=\"graph_img\" href=\"/marketindex/worldGoldDetail.nhn?marketindexCd=CMDT_GC&amp;fdtc=2\" onclick=\"clickcr(this, 'fr3.agoldc', '', '', event);\">\n",
       "<img alt=\"\" height=\"153\" src=\"https://ssl.pstatic.net/imgfinance/chart/marketindex/CMDT_GC.png\" width=\"295\"/>\n",
       "</a>\n",
       "<div class=\"graph_info\">\n",
       "<span class=\"time\">2021.03.29</span>\n",
       "<span class=\"source\">COMEX(뉴욕상품거래소) 기준</span>\n",
       "</div>\n",
       "</li>\n",
       "<li class=\"\">\n",
       "<a class=\"head gold_domestic\" href=\"/marketindex/goldDetail.nhn\" onclick=\"clickcr(this, 'fr3.kgoldt', '', '', event);\">\n",
       "<h3 class=\"h_lst\"><span class=\"blind\">국내 금</span></h3>\n",
       "<div class=\"head_info point_dn\">\n",
       "<span class=\"value\">62221.58</span>\n",
       "<span class=\"txt_krw\"><span class=\"blind\">원</span></span>\n",
       "<span class=\"change\"> 639.72</span>\n",
       "<span class=\"blind\">하락</span>\n",
       "</div>\n",
       "</a>\n",
       "<a class=\"graph_img\" href=\"/marketindex/goldDetail.nhn\" onclick=\"clickcr(this, 'fr3.kgoldc', '', '', event);\">\n",
       "<img alt=\"\" height=\"153\" src=\"https://ssl.pstatic.net/imgfinance/chart/marketindex/CMDT_GD.png\" width=\"295\"/>\n",
       "</a>\n",
       "<div class=\"graph_info\">\n",
       "<span class=\"time\">2021.03.30 13:51</span>\n",
       "<span class=\"source\">신한은행 기준</span>\n",
       "\t\t\t\t\t\t\t(<span class=\"num\">103</span>회차)\t\t\t\n",
       "\t\t\t\t\t</div>\n",
       "</li>\n",
       "</ul>\n",
       "</div>\n",
       "<!-- //data -->\n",
       "</div>\n",
       "</div>\n",
       "</div>\n",
       "<div class=\"marketindex_content\" id=\"content\">\n",
       "<div class=\"section_news\">\n",
       "<h3 class=\"h_news2\"><span>주요 뉴스</span></h3>\n",
       "<div class=\"list_area\">\n",
       "<ul>\n",
       "<li>\n",
       "<p><a href=\"/marketindex/news/newsRead.nhn?officeId=016&amp;articleId=0001814243&amp;category=\" onclick=\"clickcr(this, 'mhn.list', '016_0001814243', '0', event);\">비트코인·금·원자재...모든 자산가격 올랐</a><img alt=\"NEW\" height=\"8\" src=\"https://ssl.pstatic.net/static/nfinance/ico_new.gif\" width=\"8\"/></p>\n",
       "<span>03.30 13:23</span>\n",
       "</li>\n",
       "<li>\n",
       "<p><a href=\"/marketindex/news/newsRead.nhn?officeId=016&amp;articleId=0001814154&amp;category=\" onclick=\"clickcr(this, 'mhn.list', '016_0001814154', '1', event);\">[한희라의 동방불패] 원자재·운임 급등…中</a><img alt=\"NEW\" height=\"8\" src=\"https://ssl.pstatic.net/static/nfinance/ico_new.gif\" width=\"8\"/></p>\n",
       "<span>03.30 11:28</span>\n",
       "</li>\n",
       "<li>\n",
       "<p><a href=\"/marketindex/news/newsRead.nhn?officeId=008&amp;articleId=0004564820&amp;category=\" onclick=\"clickcr(this, 'mhn.list', '008_0004564820', '2', event);\">유가, 산유국 아닌 시장이 결정한다..GS</a><img alt=\"NEW\" height=\"8\" src=\"https://ssl.pstatic.net/static/nfinance/ico_new.gif\" width=\"8\"/></p>\n",
       "<span>03.30 08:24</span>\n",
       "</li>\n",
       "<li>\n",
       "<p><a href=\"/marketindex/news/newsRead.nhn?officeId=018&amp;articleId=0004888029&amp;category=\" onclick=\"clickcr(this, 'mhn.list', '018_0004888029', '3', event);\">[외환브리핑]달러인덱스 93선 육박..환율</a><img alt=\"NEW\" height=\"8\" src=\"https://ssl.pstatic.net/static/nfinance/ico_new.gif\" width=\"8\"/></p>\n",
       "<span>03.30 08:10</span>\n",
       "</li>\n",
       "<li>\n",
       "<p><a href=\"/marketindex/news/newsRead.nhn?officeId=018&amp;articleId=0004888024&amp;category=\" onclick=\"clickcr(this, 'mhn.list', '018_0004888024', '4', event);\">\"美인프라 투자, 원자재시장 성장모멘텀…인</a><img alt=\"NEW\" height=\"8\" src=\"https://ssl.pstatic.net/static/nfinance/ico_new.gif\" width=\"8\"/></p>\n",
       "<span>03.30 08:04</span>\n",
       "</li>\n",
       "<li>\n",
       "<p><a href=\"/marketindex/news/newsRead.nhn?officeId=018&amp;articleId=0004888021&amp;category=\" onclick=\"clickcr(this, 'mhn.list', '018_0004888021', '5', event);\">수에즈운하 통행 재개에도…WTI 1% 상승</a><img alt=\"NEW\" height=\"8\" src=\"https://ssl.pstatic.net/static/nfinance/ico_new.gif\" width=\"8\"/></p>\n",
       "<span>03.30 08:01</span>\n",
       "</li>\n",
       "<li>\n",
       "<p><a href=\"/marketindex/news/newsRead.nhn?officeId=417&amp;articleId=0000675295&amp;category=\" onclick=\"clickcr(this, 'mhn.list', '417_0000675295', '6', event);\">[오늘의 환율전망] 원/달러, 1131~1</a><img alt=\"NEW\" height=\"8\" src=\"https://ssl.pstatic.net/static/nfinance/ico_new.gif\" width=\"8\"/></p>\n",
       "<span>03.30 07:48</span>\n",
       "</li>\n",
       "<li>\n",
       "<p><a href=\"/marketindex/news/newsRead.nhn?officeId=014&amp;articleId=0004610315&amp;category=\" onclick=\"clickcr(this, 'mhn.list', '014_0004610315', '7', event);\">[원자재시황] 국제유가, 수에즈 통항 재개</a><img alt=\"NEW\" height=\"8\" src=\"https://ssl.pstatic.net/static/nfinance/ico_new.gif\" width=\"8\"/></p>\n",
       "<span>03.30 07:47</span>\n",
       "</li>\n",
       "<li>\n",
       "<p><a href=\"/marketindex/news/newsRead.nhn?officeId=001&amp;articleId=0012292741&amp;category=\" onclick=\"clickcr(this, 'mhn.list', '001_0012292741', '8', event);\">[뉴욕유가] 수에즈 운하 통항 재개 소식에</a><img alt=\"NEW\" height=\"8\" src=\"https://ssl.pstatic.net/static/nfinance/ico_new.gif\" width=\"8\"/></p>\n",
       "<span>03.30 04:13</span>\n",
       "</li>\n",
       "<li>\n",
       "<p><a href=\"/marketindex/news/newsRead.nhn?officeId=018&amp;articleId=0004887532&amp;category=\" onclick=\"clickcr(this, 'mhn.list', '018_0004887532', '9', event);\">[외환마감]달러 강세에 사흘만 상승..\"바</a><img alt=\"NEW\" height=\"8\" src=\"https://ssl.pstatic.net/static/nfinance/ico_new.gif\" width=\"8\"/></p>\n",
       "<span>03.29 15:52</span>\n",
       "</li>\n",
       "</ul>\n",
       "</div>\n",
       "<a class=\"btn_more\" href=\"/marketindex/news/newsList.nhn\" onclick=\"clickcr(this, 'mhn.more', '', '', event);\"><img alt=\"더보기\" height=\"18\" src=\"https://ssl.pstatic.net/static/nfinance/btn_more.gif\" width=\"34\"/></a>\n",
       "</div>\n",
       "<div class=\"tab_default1\" id=\"tab_section\">\n",
       "<ul>\n",
       "<li class=\"on\"><a href=\"./?tabSel=exchange#tab_section\" onclick=\"clickcr(this, 'mtb.exnoti', '', '', event);\"><span class=\"tab1\">환전고시 환율</span></a></li>\n",
       "<li class=\"\"><a href=\"./?tabSel=worldExchange#tab_section\" onclick=\"clickcr(this, 'mtb.interex', '', '', event);\"><span class=\"tab2\">국제시장 환율</span></a></li>\n",
       "<li class=\"\"><a href=\"./?tabSel=gold#tab_section\" onclick=\"clickcr(this, 'mtb.oilgold', '', '', event);\"><span class=\"tab3\">유가 금시세</span></a></li>\n",
       "<li class=\"\"><a href=\"./?tabSel=materials#tab_section\" onclick=\"clickcr(this, 'mtb.material', '', '', event);\"><span class=\"tab4\">원자재</span></a></li>\n",
       "</ul>\n",
       "<h2 class=\"blind\">환전고시 환율</h2>\n",
       "</div>\n",
       "<div class=\"section_calculator\">\n",
       "<h3 class=\"h_calculator\"><span>환율계산기 (매매기준율 기준)</span></h3>\n",
       "<div class=\"calculator\">\n",
       "<div class=\"inner\">\n",
       "<div class=\"input\">\n",
       "<div class=\"selectbox-noscript\" id=\"sInput\">\n",
       "<select class=\"selectbox-source\" id=\"select_from\">\n",
       "<option label=\"1\" value=\"1\">대한민국 원 KRW</option>\n",
       "<option class=\"selectbox-default\" label=\"1\" selected=\"selected\" value=\"1133.8\"> 미국 달러 USD</option>\n",
       "<option label=\"1\" value=\"1133.8\"> 미국 달러 USD</option>\n",
       "<option label=\"1\" value=\"1334.03\"> 유럽연합 유로 EUR</option>\n",
       "<option label=\"100\" value=\"10.312899999999999\"> 일본 엔 JPY</option>\n",
       "<option label=\"1\" value=\"172.42\"> 중국 위안 CNY</option>\n",
       "<option label=\"1\" value=\"145.82\"> 홍콩 달러 HKD</option>\n",
       "<option label=\"1\" value=\"39.72\"> 대만 달러 TWD</option>\n",
       "<option label=\"1\" value=\"1562.43\"> 영국 파운드 GBP</option>\n",
       "<option label=\"1\" value=\"2944.94\"> 오만 리알 OMR</option>\n",
       "<option label=\"1\" value=\"900.7\"> 캐나다 달러 CAD</option>\n",
       "<option label=\"1\" value=\"1207.0\"> 스위스 프랑 CHF</option>\n",
       "<option label=\"1\" value=\"130.53\"> 스웨덴 크로나 SEK</option>\n",
       "<option label=\"1\" value=\"867.64\"> 호주 달러 AUD</option>\n",
       "<option label=\"1\" value=\"796.61\"> 뉴질랜드 달러 NZD</option>\n",
       "<option label=\"1\" value=\"51.12\"> 체코 코루나 CZK</option>\n",
       "<option label=\"1\" value=\"1.54\"> 칠레 페소 CLP</option>\n",
       "<option label=\"1\" value=\"137.08\"> 터키 리라 TRY</option>\n",
       "<option label=\"1\" value=\"0.4\"> 몽골 투그릭 MNT</option>\n",
       "<option label=\"1\" value=\"340.28\"> 이스라엘 세켈 ILS</option>\n",
       "<option label=\"1\" value=\"179.4\"> 덴마크 크로네 DKK</option>\n",
       "<option label=\"1\" value=\"132.63\"> 노르웨이 크로네 NOK</option>\n",
       "<option label=\"1\" value=\"302.28\"> 사우디아라비아 리얄 SAR</option>\n",
       "<option label=\"1\" value=\"3750.45\"> 쿠웨이트 디나르 KWD</option>\n",
       "<option label=\"1\" value=\"3007.19\"> 바레인 디나르 BHD</option>\n",
       "<option label=\"1\" value=\"308.67\"> 아랍에미리트 디르함 AED</option>\n",
       "<option label=\"1\" value=\"1599.15\"> 요르단 디나르 JOD</option>\n",
       "<option label=\"1\" value=\"72.12\"> 이집트 파운드 EGP</option>\n",
       "<option label=\"1\" value=\"36.33\"> 태국 바트 THB</option>\n",
       "<option label=\"1\" value=\"841.04\"> 싱가포르 달러 SGD</option>\n",
       "<option label=\"1\" value=\"273.44\"> 말레이시아 링깃 MYR</option>\n",
       "<option label=\"100\" value=\"0.0786\"> 인도네시아 루피아 IDR</option>\n",
       "<option label=\"1\" value=\"311.4\"> 카타르 리얄 QAR</option>\n",
       "<option label=\"1\" value=\"2.67\"> 카자흐스탄 텡게 KZT</option>\n",
       "<option label=\"1\" value=\"841.04\"> 브루나이 달러 BND</option>\n",
       "<option label=\"1\" value=\"15.57\"> 인도 루피 INR</option>\n",
       "<option label=\"1\" value=\"7.41\"> 파키스탄 루피 PKR</option>\n",
       "<option label=\"1\" value=\"13.38\"> 방글라데시 타카 BDT</option>\n",
       "<option label=\"1\" value=\"23.4\"> 필리핀 페소 PHP</option>\n",
       "<option label=\"1\" value=\"55.07\"> 멕시코 페소 MXN</option>\n",
       "<option label=\"1\" value=\"196.08\"> 브라질 레알 BRL</option>\n",
       "<option label=\"100\" value=\"0.049100000000000005\"> 베트남 동 VND</option>\n",
       "<option label=\"1\" value=\"76.16\"> 남아프리카 공화국 랜드 ZAR</option>\n",
       "<option label=\"1\" value=\"15.03\"> 러시아 루블 RUB</option>\n",
       "<option label=\"1\" value=\"3.68\"> 헝가리 포린트 HUF</option>\n",
       "<option label=\"1\" value=\"285.83\"> 폴란드 즈워티 PLN</option>\n",
       "</select>\n",
       "<div class=\"selectbox-box\" onclick=\"clickcr(this, 'exl*c.clist1', '', '', event);\">\n",
       "<div class=\"selectbox-label\"></div>\n",
       "</div>\n",
       "<div class=\"selectbox-layer ly_calculator\">\n",
       "<div class=\"selectbox-list\"></div>\n",
       "</div>\n",
       "</div>\n",
       "<div class=\"input_area\" id=\"input_from\">\n",
       "<input id=\"input_from_money\" maxlength=\"10\" onclick=\"clickcr(this, 'exl*c.unit1', '', '', event);\" onfocus=\"changeActiveInput('from', 'to'); return false;\" onkeyup=\"calcExchange('from', 'to', 'on', event);\" type=\"text\" value=\"1\"/>\n",
       "<img alt=\"\" height=\"13\" id=\"img_from_monetary\" src=\"https://ssl.pstatic.net/static/nfinance/img_money_USD.gif\" width=\"26\"/>\n",
       "</div>\n",
       "</div>\n",
       "<div class=\"same\"><img alt=\"\" height=\"15\" src=\"https://ssl.pstatic.net/static/nfinance/ico_same.gif\" width=\"28\"/></div>\n",
       "<div class=\"view\">\n",
       "<div class=\"selectbox-noscript\" id=\"sView\">\n",
       "<select class=\"selectbox-source\" id=\"select_to\">\n",
       "<option class=\"selectbox-default\" label=\"1\" value=\"1\">대한민국 원 KRW</option>\n",
       "<option label=\"1\" value=\"1\">대한민국 원 KRW</option>\n",
       "<option label=\"1\" value=\"1133.8\">미국 달러 USD</option>\n",
       "<option label=\"1\" value=\"1334.03\">유럽연합 유로 EUR</option>\n",
       "<option label=\"100\" value=\"10.312899999999999\">일본 엔 JPY</option>\n",
       "<option label=\"1\" value=\"172.42\">중국 위안 CNY</option>\n",
       "<option label=\"1\" value=\"145.82\">홍콩 달러 HKD</option>\n",
       "<option label=\"1\" value=\"39.72\">대만 달러 TWD</option>\n",
       "<option label=\"1\" value=\"1562.43\">영국 파운드 GBP</option>\n",
       "<option label=\"1\" value=\"2944.94\">오만 리알 OMR</option>\n",
       "<option label=\"1\" value=\"900.7\">캐나다 달러 CAD</option>\n",
       "<option label=\"1\" value=\"1207.0\">스위스 프랑 CHF</option>\n",
       "<option label=\"1\" value=\"130.53\">스웨덴 크로나 SEK</option>\n",
       "<option label=\"1\" value=\"867.64\">호주 달러 AUD</option>\n",
       "<option label=\"1\" value=\"796.61\">뉴질랜드 달러 NZD</option>\n",
       "<option label=\"1\" value=\"51.12\">체코 코루나 CZK</option>\n",
       "<option label=\"1\" value=\"1.54\">칠레 페소 CLP</option>\n",
       "<option label=\"1\" value=\"137.08\">터키 리라 TRY</option>\n",
       "<option label=\"1\" value=\"0.4\">몽골 투그릭 MNT</option>\n",
       "<option label=\"1\" value=\"340.28\">이스라엘 세켈 ILS</option>\n",
       "<option label=\"1\" value=\"179.4\">덴마크 크로네 DKK</option>\n",
       "<option label=\"1\" value=\"132.63\">노르웨이 크로네 NOK</option>\n",
       "<option label=\"1\" value=\"302.28\">사우디아라비아 리얄 SAR</option>\n",
       "<option label=\"1\" value=\"3750.45\">쿠웨이트 디나르 KWD</option>\n",
       "<option label=\"1\" value=\"3007.19\">바레인 디나르 BHD</option>\n",
       "<option label=\"1\" value=\"308.67\">아랍에미리트 디르함 AED</option>\n",
       "<option label=\"1\" value=\"1599.15\">요르단 디나르 JOD</option>\n",
       "<option label=\"1\" value=\"72.12\">이집트 파운드 EGP</option>\n",
       "<option label=\"1\" value=\"36.33\">태국 바트 THB</option>\n",
       "<option label=\"1\" value=\"841.04\">싱가포르 달러 SGD</option>\n",
       "<option label=\"1\" value=\"273.44\">말레이시아 링깃 MYR</option>\n",
       "<option label=\"100\" value=\"0.0786\">인도네시아 루피아 IDR</option>\n",
       "<option label=\"1\" value=\"311.4\">카타르 리얄 QAR</option>\n",
       "<option label=\"1\" value=\"2.67\">카자흐스탄 텡게 KZT</option>\n",
       "<option label=\"1\" value=\"841.04\">브루나이 달러 BND</option>\n",
       "<option label=\"1\" value=\"15.57\">인도 루피 INR</option>\n",
       "<option label=\"1\" value=\"7.41\">파키스탄 루피 PKR</option>\n",
       "<option label=\"1\" value=\"13.38\">방글라데시 타카 BDT</option>\n",
       "<option label=\"1\" value=\"23.4\">필리핀 페소 PHP</option>\n",
       "<option label=\"1\" value=\"55.07\">멕시코 페소 MXN</option>\n",
       "<option label=\"1\" value=\"196.08\">브라질 레알 BRL</option>\n",
       "<option label=\"100\" value=\"0.049100000000000005\">베트남 동 VND</option>\n",
       "<option label=\"1\" value=\"76.16\">남아프리카 공화국 랜드 ZAR</option>\n",
       "<option label=\"1\" value=\"15.03\">러시아 루블 RUB</option>\n",
       "<option label=\"1\" value=\"3.68\">헝가리 포린트 HUF</option>\n",
       "<option label=\"1\" value=\"285.83\">폴란드 즈워티 PLN</option>\n",
       "</select>\n",
       "<div class=\"selectbox-box\" onclick=\"clickcr(this, 'exl*c.clist2', '', '', event);\">\n",
       "<div class=\"selectbox-label\"></div>\n",
       "</div>\n",
       "<div class=\"selectbox-layer ly_calculator\">\n",
       "<div class=\"selectbox-list\"></div>\n",
       "</div>\n",
       "</div>\n",
       "<div class=\"input_area\" id=\"input_to\">\n",
       "<input id=\"input_to_money\" maxlength=\"10\" onclick=\"clickcr(this, 'exl*c.unit2', '', '', event);\" onfocus=\"changeActiveInput('to', 'from'); return false;\" onkeyup=\"calcExchange('to', 'from', 'on', event);\" type=\"text\"/>\n",
       "<img alt=\"\" height=\"13\" id=\"img_to_monetary\" src=\"https://ssl.pstatic.net/static/nfinance/img_money_KRW.gif\" width=\"26\"/>\n",
       "</div>\n",
       "</div>\n",
       "</div>\n",
       "</div>\n",
       "</div>\n",
       "<div class=\"section_exchange\">\n",
       "<div id=\"section_ex1\">\n",
       "<h3 class=\"blind\" id=\"exchange1\">환전 고시 환율</h3>\n",
       "<div class=\"exchange_info\">\n",
       "<span class=\"date\">2021.03.30 13:53</span>\n",
       "<span class=\"standard\">하나은행 기준</span>\n",
       "<span class=\"round\">고시회차 <em>135</em>회</span>\n",
       "</div>\n",
       "<iframe frameborder=\"0\" height=\"1378px\" id=\"frame_ex1\" marginheight=\"0\" marginwidth=\"0\" scrolling=\"no\" src=\"/marketindex/exchangeList.nhn\" title=\"환전 고시 환율\" width=\"100%\"></iframe>\n",
       "</div>\n",
       "<ul class=\"tbl_info\">\n",
       "<li>대부분의 통화명은 1달러가 다른 통화 기준으로 얼마인가를 나타내기 위해 국가명+화폐명/달러로 표기했습니다. <br/>예외로 유로, 영국파운드 등은 1유로가 달러로 얼마인가를 표기하는 경우가 많기 때문에 달러/유로로 표기했습니다.</li>\n",
       "<li>심볼은 앞에 위치한 통화에 1이 생략된 형태로 USDJPY인 경우 1USD(달러)가 JPY(일본 엔)으로 얼마인가를 의미합니다.</li>\n",
       "<li>통화명과 심볼로 네이버 금융검색을 하실 경우 해당 환율을 바로 조회하실 수 있습니다. </li>\n",
       "</ul>\n",
       "</div>\n",
       "<script language=\"javascript\" src=\"https://ssl.pstatic.net/imgstock/static.pc/20210325123932/js/jindoComponent/jindo.Component.1.0.3.js\" type=\"text/javascript\"></script>\n",
       "<script language=\"javascript\" src=\"https://ssl.pstatic.net/imgstock/static.pc/20210325123932/js/jindoComponent/jindo.UIComponent.1.0.1.js\" type=\"text/javascript\"></script>\n",
       "<script language=\"javascript\" src=\"https://ssl.pstatic.net/imgstock/static.pc/20210325123932/js/jindoComponent/jindo.HTMLComponent.1.0.1.js\" type=\"text/javascript\"></script>\n",
       "<script language=\"javascript\" src=\"https://ssl.pstatic.net/imgstock/static.pc/20210325123932/js/jindoComponent/jindo.Timer.1.0.3.js\" type=\"text/javascript\"></script>\n",
       "<script language=\"javascript\" src=\"https://ssl.pstatic.net/imgstock/static.pc/20210325123932/js/jindoComponent/jindo.LayerManager.1.0.1.js\" type=\"text/javascript\"></script>\n",
       "<script language=\"javascript\" src=\"https://ssl.pstatic.net/imgstock/static.pc/20210325123932/js/jindoComponent/jindo.LayerPosition.1.0.1.js\" type=\"text/javascript\"></script>\n",
       "<script language=\"javascript\" src=\"https://ssl.pstatic.net/imgstock/static.pc/20210325123932/js/jindoComponent/jindo.RolloverArea.1.0.1.js\" type=\"text/javascript\"></script>\n",
       "<script language=\"javascript\" src=\"https://ssl.pstatic.net/imgstock/static.pc/20210325123932/js/jindoComponent/jindo.RolloverClick.1.0.1.js\" type=\"text/javascript\"></script>\n",
       "<script language=\"javascript\" src=\"https://ssl.pstatic.net/imgstock/static.pc/20210325123932/js/jindoComponent/jindo.SelectBox.1.0.1.js\" type=\"text/javascript\"></script>\n",
       "<script charset=\"euckr\" language=\"javascript\" src=\"https://ssl.pstatic.net/imgstock/static.pc/20210325123932/js/jindoComponent/jindo.TextRange.1.0.1.js\" type=\"text/javascript\"></script>\n",
       "<script charset=\"euckr\" language=\"javascript\" src=\"https://ssl.pstatic.net/imgstock/static.pc/20210325123932/js/jindoComponent/jindo.WatchInput.1.0.1.js\" type=\"text/javascript\"></script>\n",
       "<script charset=\"euckr\" language=\"javascript\" src=\"https://ssl.pstatic.net/imgstock/static.pc/20210325123932/js/jindoComponent/jindo.Formatter.1.1.0.js\" type=\"text/javascript\"></script>\n",
       "<script charset=\"euckr\" language=\"javascript\" src=\"https://ssl.pstatic.net/imgstock/static.pc/20210325123932/js/jindoComponent/jindo.NumberFormatter.1.0.1.js\" type=\"text/javascript\"></script>\n",
       "<script language=\"javascript\" src=\"https://ssl.pstatic.net/imgstock/static.pc/20210325123932/js/exchange.js\" type=\"text/javascript\"></script>\n",
       "<script type=\"text/javascript\">\n",
       "// exchangeDetail.jsp에도 동일 스크립트 있음 - 로딩시 디자인이 0.5초간 디자인이 안뜬다는 이슈로 include하지 않고 같은 스크립트를 두벌로 관리함\n",
       "\n",
       "//환율 계산\n",
       "function calcExchange(str1, str2, cssOn, event) {\n",
       "\tvar oEvent = event || window.event;\n",
       "    var sKeyCode = (undefined === oEvent) ? undefined : jindo.$Event(oEvent).key().keyCode;\n",
       "\t\n",
       "\tif (sKeyCode != 13 && sKeyCode != 27 && sKeyCode != 37 && sKeyCode != 38 && sKeyCode != 110 && sKeyCode != 229) {\n",
       "\t\tif (str1 == '' && str2 == '') {\n",
       "\t\t\tif (jindo.$('input_to').className == 'input_area') {\n",
       "\t\t\t\tstr1 = 'from';\n",
       "\t\t\t\tstr2 = 'to';\n",
       "\t\t\t} else {\n",
       "\t\t\t\tstr1 = 'to';\n",
       "\t\t\t\tstr2 = 'from';\n",
       "\t\t\t}\n",
       "\t\t}\n",
       "\t\t\n",
       "\t\tvar regExp = new RegExp(\"[^0-9\\.\\,]\");\n",
       "\t    var sInputValue = jindo.$('input_' + str1 + '_money').value;\n",
       "\t\t\n",
       "\t    if(regExp.test(sInputValue)){\n",
       "\t\t\talert('숫자, 소수점(.)만 입력하실 수 있습니다.');\n",
       "\t\t\tjindo.$('input_' + str1 + '_money').value = revertInputText(sInputValue);\n",
       "\t\t\treturn false;\n",
       "\t\t}\n",
       "\t\t\n",
       "\t\t// 사용자가 입력한 콤마(,) 제거\n",
       "\t    if (sInputValue.substr(sInputValue.length - 1, 1) == ',') {\n",
       "\t    \tjindo.$('input_' + str1 + '_money').value = revertInputText(sInputValue);\n",
       "\t    \treturn false;\n",
       "\t    }\n",
       "\t\t\n",
       "\t\t// 맨 앞에 있는 숫자 0 없애기\n",
       "\t\tif (sInputValue == '0' || sInputValue == '.' || sInputValue == ',') {\n",
       "\t\t\tjindo.$('input_' + str1 + '_money').value = revertInputText(sInputValue);\n",
       "\t\t\treturn false;\n",
       "\t\t}\n",
       "\t\t\n",
       "\t\t// 소수점 2개가 없도록\n",
       "\t\tvar match = sInputValue.match(/\\./g);\n",
       "\t\tif (match != null && match.length >= 2) {\n",
       "\t\t\tjindo.$('input_' + str1 + '_money').value = revertInputText(sInputValue);\n",
       "\t\t\treturn false;\n",
       "\t\t}\n",
       "\t\t\n",
       "\t\t// 소수점을 입력한 경우, 일단 대기\n",
       "\t\tvar pointPosIndex = sInputValue.indexOf('.');\n",
       "\t\tif (pointPosIndex != -1 && pointPosIndex == sInputValue.length - 1) {\n",
       "\t\t\treturn false;\n",
       "\t\t}\n",
       "\t\t\n",
       "\t\t// 소수점 2자리 유지\n",
       "\t\tif (pointPosIndex != -1 && sInputValue.substring(pointPosIndex + 1, sInputValue.length).length > 2) {\n",
       "\t\t\tjindo.$('input_' + str1 + '_money').value = revertInputText(sInputValue);\n",
       "\t\t\treturn false;\n",
       "\t\t}\n",
       "\t\t\n",
       "\t\tvar e_select_from\t= jindo.$('select_'+str1);\n",
       "\t\tvar e_select_to\t= jindo.$('select_'+str2);\n",
       "\t\n",
       "\t\tvar input_from_money\t= jindo.$('input_'+str1+'_money').value ;\n",
       "\t\tvar input_from\t\t= e_select_from.options[e_select_from.selectedIndex].value ;\n",
       "\t\tvar input_to\t\t= e_select_to.options[e_select_to.selectedIndex].value ;\n",
       "\t\tvar unit_from\t= e_select_from.options[e_select_from.selectedIndex].text ;\n",
       "\t\tvar unit_to\t\t= e_select_to.options[e_select_to.selectedIndex].text ;\n",
       "\t\tinput_from_money = input_from_money.replace(/ |,|\\t/g, \"\") ;\n",
       "\t\tinput_from\t= input_from.replace(/ |,|\\t/g, \"\") ;\n",
       "\t\tinput_to\t= input_to.replace(/ |,|\\t/g, \"\") ;\n",
       "\t\tunit_from = unit_from.substr(unit_from.length-3, 3);\n",
       "\t\tunit_to = unit_to.substr(unit_to.length-3, 3);\n",
       "\t\n",
       "\t\tvar str1_result = input_from_money * 1 ;\n",
       "\t\tvar str1_str\t= str1_result.toFixed(0) ;\n",
       "\t\tvar str1_len = str1_str.length ;\n",
       "\t\tvar str1_result_str = new String(\"\") ;\n",
       "\t\n",
       "\t\tif(str1_str > str1_result)\n",
       "\t\t\tstr1_str = new String(str1_str-1) ;\n",
       "\t\n",
       "\t\tif (str1_len >= 3) {\n",
       "\t\t\tfor (i = str1_len - 3; i > 0; i-=3)\n",
       "\t\t\t\tstr1_result_str = \",\" + str1_str.substr(i, 3) + str1_result_str ;\n",
       "\t\n",
       "\t\t\tstr1_result_str = str1_str.substr(0, 3+i) + str1_result_str ;\n",
       "\t\n",
       "\t\t\tfor (var i=0; i<input_from_money.length; i++) {\n",
       "\t\t\t\tif (input_from_money.substr(i,1) != '0') {\n",
       "\t\t\t\t\tinput_from_money = input_from_money.substring(i,input_from_money.length) ;\n",
       "\t\t\t\t\tbreak;\n",
       "\t\t\t\t}\n",
       "\t\t\t}\n",
       "\t\n",
       "\t\t\tif (str1_str != input_from_money) {\n",
       "\t\t\t\tstr1_result_str += str1_result.toFixed(input_from_money.split(\".\")[1].length).substr(str1_len, input_from_money.split(\".\")[1].length + 1) ;\n",
       "\t\t\t}\n",
       "\t\t} else\n",
       "\t\t\tstr1_result_str = input_from_money ;\n",
       "\t\n",
       "\t\tvar str2_result = input_from_money * input_from / input_to ;\n",
       "\t\tvar str2_str\t= str2_result.toFixed(0) ;\n",
       "\t\tvar str2_len = str2_str.length ;\n",
       "\t\tvar str2_result_str = new String(\"\") ;\n",
       "\t\n",
       "\t\tif (str2_str > str2_result)\n",
       "\t\t\tstr2_str = new String(str2_str-1) ;\n",
       "\t\n",
       "\t\tif (str2_len >= 3) {\n",
       "\t\t\tfor (i = str2_len - 3; i > 0; i-=3)\n",
       "\t\t\t\tstr2_result_str = \",\" + str2_str.substr(i, 3) + str2_result_str ;\n",
       "\t\n",
       "\t\t\tstr2_result_str = str2_str.substr(0, 3+i) + str2_result_str ;\n",
       "\t\t\tstr2_result_str += str2_result.toFixed(2).substr(str2_len, 3) ;\n",
       "\t\t} else\n",
       "\t\t\tstr2_result_str = str2_result.toFixed(2) ;\n",
       "\t\n",
       "\t\tjindo.$('input_'+str1+'_money').value = str1_result_str;\n",
       "\t\tjindo.$('input_'+str2+'_money').value = str2_result_str;\n",
       "\t\tjindo.$('img_'+str1+'_monetary').src = \"https://ssl.pstatic.net/static/nfinance/img_money_\"+unit_from+\".gif\";\n",
       "\t\tjindo.$('img_'+str2+'_monetary').src = \"https://ssl.pstatic.net/static/nfinance/img_money_\"+unit_to+\".gif\";\n",
       "\t\tjindo.$Element(jindo.$('input_'+str1)).addClass(\"on\");\n",
       "\t\tjindo.$Element(jindo.$('input_'+str2)).removeClass(\"on\");\n",
       "\t\tif (cssOn == \"off\"){\n",
       "\t\t\tjindo.$Element(jindo.$('input_'+str1)).removeClass(\"on\");\n",
       "\t\t}\n",
       "\t}\n",
       "}\n",
       "\n",
       "function revertInputText(sOrgText) {\n",
       "\tvar sResult = sOrgText;\n",
       "\t\n",
       "\tif (sOrgText != '') {\n",
       "\t\tsResult = sOrgText.substr(0, sOrgText.length - 1);\n",
       "\t}\n",
       "\t\n",
       "\treturn sResult;\n",
       "}\n",
       "\n",
       "jindo.$Fn(function(){\n",
       "\tchartMouseOverEvent('exchangeList');\t\t\n",
       "   }).attach(document, \"domready\");\n",
       "</script>\n",
       "</div>\n",
       "<script language=\"javascript\" src=\"https://ssl.pstatic.net/imgstock/static.pc/20210325123932/js/jindo_ellipse.js\"></script>\n",
       "<script language=\"javascript\" src=\"https://ssl.pstatic.net/imgstock/static.pc/20210325123932/js/util.js\"></script>\n",
       "<script type=\"text/javascript\">\n",
       "\n",
       "function ellipseTopNewsTitle() {\n",
       "\tjindo.EllipseText.factory(jindo.$$(\".news_list ul li\"), {nAssistWidth: 10});\n",
       "}\n",
       "\n",
       "var basicDates;\n",
       "\n",
       "function initDate() {\n",
       "\tbasicDates = jindo.$H();\n",
       "\tbasicDates.add('', '');\n",
       "\tbasicDates.add('', '');\n",
       "\tbasicDates.add('', '');\n",
       "\tbasicDates.add('', '');\n",
       "\tbasicDates.add('', '');\n",
       "\tbasicDates.add('', '');\n",
       "}\n",
       "\n",
       "var basicDescriptions;\n",
       "\n",
       "function initDescription() {\n",
       "\tbasicDescriptions = jindo.$H();\n",
       "\tbasicDescriptions.add('CMDT_CDY','<em></em>  기준<span>단위:</span>');\n",
       "\tbasicDescriptions.add('CMDT_PDY','<em></em>  기준<span>단위:</span>');\n",
       "\tbasicDescriptions.add('CMDT_NG','<em></em>  기준<span>단위:</span>');\n",
       "\tbasicDescriptions.add('CMDT_S','<em></em>  기준<span>단위:</span>');\n",
       "\tbasicDescriptions.add('CMDT_C','<em></em>  기준<span>단위:</span>');\n",
       "\tbasicDescriptions.add('CMDT_SB','<em></em>  기준<span>단위:</span>');\n",
       "}\n",
       "\n",
       "function setEvent(num, imgChartUrl){\t\n",
       "\tvar parentElemnt = jindo.$$('.tbl_market')[num];\n",
       "\tvar elementList = jindo.$$('tr',parentElemnt);\n",
       "\t\n",
       "\tjindo.$Fn(function(e){\t\n",
       "\t\tvar elementListSize = elementList.length;\n",
       "\t\t\n",
       "\t\tfor(var i = 0 ; i < elementListSize ; i ++)\n",
       "\t\t{\n",
       "\t\t\tvar selectedElement = jindo.$Element(elementList[i]);\n",
       "\t\t\tvar selectedClassName = selectedElement.className();\n",
       "\t\t\tif (selectedClassName != \"\") {\n",
       "\t\t\t\tselectedElement.removeClass(selectedClassName);\n",
       "\t\t\t\tselectedElement.addClass(selectedClassName.replace(\"on\",\"\"));\n",
       "\t\t\t}\n",
       "\t\t} \n",
       "\t\t\n",
       "\t\tvar ele = jindo.$Element(jindo.$Event(e).currentElement);\n",
       "\t\tvar linkUrl = jindo.$$.getSingle('a' , ele.$value()).href;\n",
       "\t\tvar marketindexCd = linkUrl.split('=')[1];\n",
       "\t\tvar className = ele.className();\n",
       "\t\tele.removeClass(className);\n",
       "\t\tele.addClass(className+\" on\");\n",
       "\t\tvar graphElement = jindo.$Element(jindo.$$('.thum')[num]);\n",
       "\t\tgraphElement.html('<a href=\\\"'+linkUrl+'\\\"><img src=\\\"https://ssl.pstatic.net/imgfinance/chart/marketindex/' + marketindexCd + '.png\\\" width=\\\"295\\\" height=\\\"153\\\" alt=\"\"></a>');\n",
       "\t\t\n",
       "\t\tif (basicDates.hasKey(marketindexCd)) {\n",
       "\t\t\tjindo.$Element(\"basicDate\").text(basicDates.$(marketindexCd));\n",
       "\t\t}\n",
       "\t\tif (basicDescriptions.hasKey(marketindexCd)) {\n",
       "\t\t\tjindo.$Element(\"basicDescription\").html(basicDescriptions.$(marketindexCd));\n",
       "\t\t}\n",
       "\t\n",
       "\t}).attach(elementList, \"mouseover\");\t\n",
       "}\n",
       "\n",
       "jindo.$Fn(function(){\n",
       "\t\tinitDate();\n",
       "\t\tinitDescription();\n",
       "\t\tchartMouseOverEvent('exchangeList');\n",
       "\t\tchartMouseOverEvent('worldExchangeList');\n",
       "\t\tchartMouseOverEvent('oilGoldList');\n",
       "\t\tjindo.$$('title')[0].innerHTML = \"시장지표 : 네이버 금융\";\n",
       "}).attach(document, \"domready\");\n",
       "\n",
       "</script>\n",
       "<div class=\"aside\" id=\"marketindex_aside\">\n",
       "<div class=\"section_aside\">\n",
       "<h3 class=\"h_interest\"><span>국내시장금리</span></h3>\n",
       "<table class=\"tbl_exchange market\" summary=\"국제시장 환율 리스트\">\n",
       "<caption>국내시장금리</caption>\n",
       "<colgroup>\n",
       "<col width=\"94\"/>\n",
       "<col width=\"50\"/>\n",
       "<col width=\"75\"/>\n",
       "</colgroup>\n",
       "<thead>\n",
       "<tr>\n",
       "<th>구분</th>\n",
       "<th>금리</th>\n",
       "<th>등락율</th>\n",
       "</tr>\n",
       "</thead>\n",
       "<tbody>\n",
       "<tr class=\"same\">\n",
       "<th class=\"th_inter4\"><a href=\"/marketindex/interestDetail.nhn?marketindexCd=IRR_CD91\" onclick=\"clickcr(this, 'rid.local', 'IRR_CD91', '1', event);\"><span>CD금리(91일)</span></a></th>\n",
       "<td>0.75</td>\n",
       "<td><img alt=\"보합\" height=\"6\" src=\"https://ssl.pstatic.net/static/nfinance/ico_same2.gif\" width=\"7\"/> 0.00</td>\n",
       "</tr>\n",
       "<tr class=\"down\">\n",
       "<th class=\"th_inter1\"><a href=\"/marketindex/interestDetail.nhn?marketindexCd=IRR_CALL\" onclick=\"clickcr(this, 'met.8', 'IRR_CALL', '2', event);\"><span>콜 금리</span></a></th>\n",
       "<td>0.47</td>\n",
       "<td><img alt=\"하락\" height=\"6\" src=\"https://ssl.pstatic.net/static/nfinance/ico_down.gif\" width=\"7\"/> 0.01</td>\n",
       "</tr>\n",
       "<tr class=\"same\">\n",
       "<th class=\"th_inter2\"><a href=\"/marketindex/interestDetail.nhn?marketindexCd=IRR_GOVT03Y\" onclick=\"clickcr(this, 'met.8', 'IRR_GOVT03Y', '3', event);\"><span>국고채 (3년)</span></a></th>\n",
       "<td>1.11</td>\n",
       "<td><img alt=\"보합\" height=\"6\" src=\"https://ssl.pstatic.net/static/nfinance/ico_same2.gif\" width=\"7\"/> 0.00</td>\n",
       "</tr>\n",
       "<tr class=\"same\">\n",
       "<th class=\"th_inter3\"><a href=\"/marketindex/interestDetail.nhn?marketindexCd=IRR_CORP03Y\" onclick=\"clickcr(this, 'met.8', 'IRR_CORP03Y', '4', event);\"><span>회사채 (3년)</span></a></th>\n",
       "<td>2.05</td>\n",
       "<td><img alt=\"보합\" height=\"6\" src=\"https://ssl.pstatic.net/static/nfinance/ico_same2.gif\" width=\"7\"/> 0.00</td>\n",
       "</tr>\n",
       "<tr class=\"down\">\n",
       "<th class=\"th_inter5\"><a href=\"/marketindex/interestDetail.nhn?marketindexCd=IRR_COFIXBAL\" onclick=\"clickcr(this, 'met.8', 'IRR_COFIXBAL', '5', event);\"><span>COFIX 잔액</span></a></th>\n",
       "<td>1.09</td>\n",
       "<td><img alt=\"하락\" height=\"6\" src=\"https://ssl.pstatic.net/static/nfinance/ico_down.gif\" width=\"7\"/> 0.04</td>\n",
       "</tr>\n",
       "<tr class=\"down\">\n",
       "<th class=\"th_inter6\"><a href=\"/marketindex/interestDetail.nhn?marketindexCd=IRR_COFIXNEW\" onclick=\"clickcr(this, 'met.8', 'IRR_COFIXNEW', '6', event);\"><span>COFIX 신규취급액</span></a></th>\n",
       "<td>0.83</td>\n",
       "<td><img alt=\"하락\" height=\"6\" src=\"https://ssl.pstatic.net/static/nfinance/ico_down.gif\" width=\"7\"/> 0.03</td>\n",
       "</tr>\n",
       "</tbody>\n",
       "</table>\n",
       "<table class=\"tbl_exchange tbl_exchange_v1 market\" style=\"margin-top:10px;\" summary=\"달러 인덱스\">\n",
       "<caption>달러 인덱스</caption>\n",
       "<colgroup>\n",
       "<col width=\"88\"/>\n",
       "<col width=\"46\"/>\n",
       "<col width=\"66\"/>\n",
       "</colgroup>\n",
       "<thead>\n",
       "<tr>\n",
       "<th>구분</th>\n",
       "<th>금리</th>\n",
       "<th>등락율</th>\n",
       "</tr>\n",
       "</thead>\n",
       "<tbody>\n",
       "<tr class=\"other_t1 up\">\n",
       "<th class=\"th_inter7\"><a href=\"/marketindex/worldExchangeDetail.nhn?marketindexCd=FX_USDX&amp;fdtc=4\" onclick=\"clickcr(this, 'rid.dollar', 'FX_USDX', '', event);\"><span>달러 인덱스</span></a></th>\n",
       "<td>92.9500</td>\n",
       "<td><img alt=\"상승\" height=\"6\" src=\"https://ssl.pstatic.net/static/nfinance/ico_up.gif\" width=\"7\"/> 0.1800</td>\n",
       "</tr>\n",
       "</tbody>\n",
       "</table>\n",
       "</div>\n",
       "<div class=\"section_aside\">\n",
       "<div class=\"tab_search search3\">\n",
       "<a href=\"#\" onclick=\"clickcr(this, 'rch.1', '', '', event); return false;\"><span>최근조회</span></a>\n",
       "<a href=\"#\" onclick=\"clickcr(this, 'rch.3', '', '', event); return false;\"><span>MY STOCK</span></a>\n",
       "</div>\n",
       "<h3 class=\"blind\">최근조회</h3>\n",
       "<table class=\"tbl_search\" summary=\"최근조회 리스트\">\n",
       "<caption>최근조회</caption>\n",
       "<colgroup>\n",
       "<col/>\n",
       "<col width=\"55\"/>\n",
       "<col width=\"87\"/>\n",
       "</colgroup>\n",
       "<thead>\n",
       "<tr>\n",
       "<th>업체명</th>\n",
       "<th>거래량</th>\n",
       "<th>전일비</th>\n",
       "</tr>\n",
       "</thead>\n",
       "<tbody>\n",
       "</tbody>\n",
       "</table>\n",
       "<div class=\"more_info\">\n",
       "<span>\n",
       "<a href=\"#\" onclick=\"clickcr(this, 'rch.5', '', '', event); return false;\"><img alt=\"이전\" height=\"15\" src=\"https://ssl.pstatic.net/static/nfinance/btn_prev2.gif\" width=\"17\"/></a>\n",
       "<a href=\"#\" onclick=\"clickcr(this, 'rch.6', '', '', event); return false;\"><img alt=\"다음\" height=\"15\" src=\"https://ssl.pstatic.net/static/nfinance/btn_next2.gif\" width=\"17\"/></a>\n",
       "</span>\n",
       "<a class=\"btn_more _mystock_more_info\" href=\"#\" onclick=\"javascript:openMyitemNew('https://finance.naver.com'); clickcr(this, 'rch.7', '', '', event);\"><img alt=\"더보기\" height=\"10\" src=\"https://ssl.pstatic.net/static/nfinance/btn_more5.gif\" width=\"33\"/></a>\n",
       "</div>\n",
       "</div>\n",
       "<div class=\"section_aside\">\n",
       "<h3 class=\"h_report\"><span>경제분석 리포트 </span></h3>\n",
       "<ul class=\"list_report\">\n",
       "<li><a href=\"/research/economy_read.nhn?nid=7178\" onclick=\"clickcr(this, 'rer.list', '', '', event);\">국내외 경제이슈</a></li>\n",
       "<li><a href=\"/research/economy_read.nhn?nid=7177\" onclick=\"clickcr(this, 'rer.list', '', '', event);\">쉼표</a></li>\n",
       "<li><a href=\"/research/economy_read.nhn?nid=7176\" onclick=\"clickcr(this, 'rer.list', '', '', event);\">국내외 경제이슈</a></li>\n",
       "<li><a href=\"/research/economy_read.nhn?nid=7175\" onclick=\"clickcr(this, 'rer.list', '', '', event);\">국내외 경제이슈</a></li>\n",
       "<li><a href=\"/research/economy_read.nhn?nid=7174\" onclick=\"clickcr(this, 'rer.list', '', '', event);\">SMIC 주가가 이번주 10% 넘...</a></li>\n",
       "</ul>\n",
       "<a class=\"btn_more\" href=\"/research/economy_list.nhn\" onclick=\"clickcr(this, 'rer.more', '', '', event);\"><img alt=\"경제분석 리포트 더보기\" height=\"18\" src=\"https://ssl.pstatic.net/static/nfinance/btn_more.gif\" width=\"34\"/></a>\n",
       "</div>\n",
       "</div>\n",
       "<script language=\"javascript\" src=\"https://ssl.pstatic.net/imgstock/static.pc/20210325123932/js/info/myStock.js\" type=\"text/javascript\"></script>\n",
       "<script language=\"javascript\" src=\"https://ssl.pstatic.net/imgstock/static.pc/20210325123932/js/util.js\" type=\"text/javascript\"></script>\n",
       "<script language=\"javascript\">\n",
       "\n",
       "function toggleTabSearch(e){\n",
       "\tvar currentElement = jindo.$Element(jindo.$Event(e).currentElement);\n",
       "\tvar parentElement = currentElement.parent();\n",
       "\tvar id = currentElement.className();\n",
       "\tvar order = parentElement.indexOf(currentElement) + 3;\n",
       "\tparentElement.className(\"tab_search search\"+ order);\n",
       "\n",
       "\t// 페이징을 위해서 order값에 따라 최근조회인지 mystock인지 type을 저장\n",
       "\tif (order == 3) {\n",
       "\t\tcurrentType = \"recent\";\n",
       "\t} else {\n",
       "\t\tcurrentType = \"mystock\";\n",
       "\t}\n",
       "}\n",
       "\n",
       "jindo.$Fn(function(){\n",
       "\tif ('true' == 'true') {\n",
       "\t\tgetStockRightMenuData('000000', 'recent', 1, 'https://finance.naver.com', 'https://ssl.pstatic.net/static/nfinance');\n",
       "\n",
       "\t\tvar tabSearchArea = jindo.$$.getSingle('.tab_search');\n",
       "\t\tvar moreInfoArea = jindo.$Element(jindo.$$.getSingle('.tbl_search')).next().$value();\n",
       "\n",
       "\t\tjindo.$Fn(function(e) {toggleTabSearch(e); getStockRightMenuData('000000', 'recent', 1, 'https://finance.naver.com', 'https://ssl.pstatic.net/static/nfinance'); }).attach(jindo.$$.getSingle('a' ,tabSearchArea), 'click');\n",
       "\t\tjindo.$Fn(function(e) {toggleTabSearch(e); getStockRightMenuData('000000', 'mystock', 1, 'https://finance.naver.com', 'https://ssl.pstatic.net/static/nfinance'); }).attach(jindo.$$('a' ,tabSearchArea)[1], 'click');\n",
       "\t\tjindo.$Fn(function(e) {updatePageForPaging (currentType, 'up', 'https://finance.naver.com', 'https://ssl.pstatic.net/static/nfinance'); }).attach(jindo.$$.getSingle('a', moreInfoArea), 'click');\n",
       "\t\tjindo.$Fn(function(e) {updatePageForPaging (currentType, 'down', 'https://finance.naver.com', 'https://ssl.pstatic.net/static/nfinance'); }).attach(jindo.$$('a', moreInfoArea)[1], 'click');\n",
       "\t}\n",
       "\n",
       "}).attach(document,\"domready\");\n",
       "\n",
       "function openMyitemNew(stockHost) {\n",
       "\tvar selectedElement = jindo.$Element(jindo.$$.getSingle(\".tab_search\"));\n",
       "\tif (selectedElement != null) {\n",
       "\t\tif (selectedElement.hasClass(\"search1\")) {\n",
       "\t\t\tdocument.location.href = stockHost + '/mystock/recentSearchItemList.nhn';\n",
       "\t\t} else {\n",
       "\t\t\tdocument.location.href = stockHost + '/mystock/itemList.nhn';\n",
       "\t\t}\n",
       "\t}\n",
       "}\n",
       "\n",
       "</script>\n",
       "</div>\n",
       "<div id=\"footer\">\n",
       "<ul>\n",
       "<li class=\"first\">\n",
       "<a href=\"https://www.naver.com/rules/service.html\" onclick=\"clickcr(this, 'fot.service', '', '', event);\" target=\"_blank\">이용약관</a>\n",
       "</li>\n",
       "<li>\n",
       "<a href=\"/rules.nhn\" onclick=\"clickcr(this, 'fot.policy', '', '', event);\" target=\"_blank\">금융게시판 운영원칙</a>\n",
       "</li>\n",
       "<li>\n",
       "<a href=\"https://www.naver.com/rules/privacy.html\" onclick=\"clickcr(this, 'fot.privacy', '', '', event);\" target=\"_blank\"><strong>개인정보처리방침</strong></a>\n",
       "</li>\n",
       "<li>\n",
       "<a href=\"https://www.naver.com/rules/disclaimer.html\" onclick=\"clickcr(this, 'fot.limit', '', '', event);\" target=\"_blank\">책임의 한계와 법적고지</a>\n",
       "</li>\n",
       "<li>\n",
       "<a href=\"https://help.naver.com/support/alias/contents2/finance/finance_1.naver\" onclick=\"clickcr(this, 'fot.help', '', '', event);\" target=\"_blank\">금융 고객센터</a>\n",
       "</li>\n",
       "</ul>\n",
       "<p class=\"desc\">네이버(주)가 제공하는 금융 정보는 각 콘텐츠 제공업체로부터 받는 투자 참고사항이며, 오류가 발생하거나 지연될 수 있습니다.<br/>네이버(주)와 콘텐츠 제공업체는 제공된 정보에 의한 투자 결과에 법적인 책임을 지지 않습니다. 게시된 정보는 무단으로 배포할 수 없습니다.</p>\n",
       "<address>\n",
       "<a class=\"logo\" href=\"https://www.navercorp.com/\" onclick=\"clickcr(this, 'fot.nhn', '', '', event);\" target=\"_blank\"><img alt=\"NAVER\" height=\"11\" src=\"https://ssl.pstatic.net/static/nfinance/2019/02/22/ci_naver.png\" width=\"58\"/></a>\n",
       "<em>Copyright ©</em>\n",
       "<a href=\"https://www.navercorp.com/\" onclick=\"clickcr(this, 'fot.nhn', '', '', event);\" target=\"_blank\">NAVER Corp.</a>\n",
       "<span>All Rights Reserved.</span>\n",
       "</address>\n",
       "</div>\n",
       "<script type=\"text/javascript\">\n",
       "function isVisible(obj) {\n",
       "    if (obj == document) return true\n",
       " \n",
       "    if (!obj) return false\n",
       "    if (!obj.parentNode) return false\n",
       "    if (obj.style) {\n",
       "        if (obj.style.display == 'none') return false\n",
       "        if (obj.style.visibility == 'hidden') return false\n",
       "    }\n",
       " \n",
       "    if (window.getComputedStyle) {\n",
       "        var style = window.getComputedStyle(obj, \"\")\n",
       "        if (style.display == 'none') return false\n",
       "        if (style.visibility == 'hidden') return false\n",
       "    }\n",
       " \n",
       "    var style = obj.currentStyle\n",
       "    if (style) {\n",
       "        if (style['display'] == 'none') return false\n",
       "        if (style['visibility'] == 'hidden') return false\n",
       "    }\n",
       " \n",
       "    return isVisible(obj.parentNode)\n",
       "}\n",
       "\n",
       "function isChildOf(myobj, containerObj) {\n",
       "\twhile(myobj != undefined) {\n",
       "\t\tif (myobj == document.body) {\n",
       "\t\t\tbreak;\n",
       "\t\t} \n",
       "\t\tif (myobj == containerObj) {\n",
       "\t\t\treturn true;\n",
       "\t\t}\n",
       "\t\tmyobj = myobj.parentElement;\n",
       "\t}\n",
       "\treturn false;\t\n",
       "}\n",
       "\n",
       "function gnbLayerClose(e){\n",
       "\tvar target = e.target ? e.target : e.srcElement;\n",
       "\tif (isVisible(document.getElementById('gnb_service_lyr')) || isVisible(document.getElementById('gnb_notice_lyr')) ||isVisible(document.getElementById('gnb_my_lyr')) ) {\n",
       "\t\tif (!isChildOf(target, document.getElementById('gnb'))) {\n",
       "\t\t\tgnbAllLayerClose();\n",
       "\t\t}\n",
       "\t}\t\n",
       "}\n",
       "\n",
       "var isIE = (navigator.userAgent.toLowerCase().indexOf(\"msie\")!=-1 && window.document.all) ? true:false;\n",
       "if (isIE) {\n",
       "\tdocument.attachEvent('onmousedown', gnbLayerClose);\n",
       "} else {\n",
       "\twindow.addEventListener('mousedown', gnbLayerClose);\n",
       "}\n",
       "</script>\n",
       "\n"
      ]
     },
     "execution_count": 35,
     "metadata": {},
     "output_type": "execute_result"
    }
   ],
   "source": [
    "soup = BeautifulSoup(page, 'html.parser')\n",
    "soup # 돔트리 구성"
   ]
  },
  {
   "cell_type": "markdown",
   "metadata": {},
   "source": [
    "파싱이 끝나면, 선택이 가능해진다."
   ]
  },
  {
   "cell_type": "code",
   "execution_count": 36,
   "metadata": {},
   "outputs": [
    {
     "data": {
      "text/plain": [
       "[<span class=\"value\">1,133.80</span>,\n",
       " <span class=\"value\">1,031.29</span>,\n",
       " <span class=\"value\">1,334.03</span>,\n",
       " <span class=\"value\">172.42</span>,\n",
       " <span class=\"value\">109.7600</span>,\n",
       " <span class=\"value\">1.1766</span>,\n",
       " <span class=\"value\">1.3774</span>,\n",
       " <span class=\"value\">92.9500</span>,\n",
       " <span class=\"value\">61.56</span>,\n",
       " <span class=\"value\">1533.6</span>,\n",
       " <span class=\"value\">1712.2</span>,\n",
       " <span class=\"value\">62221.58</span>]"
      ]
     },
     "execution_count": 36,
     "metadata": {},
     "output_type": "execute_result"
    }
   ],
   "source": [
    "soup.find_all('span', class_='value')"
   ]
  },
  {
   "cell_type": "code",
   "execution_count": 37,
   "metadata": {},
   "outputs": [
    {
     "data": {
      "text/plain": [
       "'1,133.80'"
      ]
     },
     "execution_count": 37,
     "metadata": {},
     "output_type": "execute_result"
    }
   ],
   "source": [
    "soup.find_all('span', class_='value')[0].string"
   ]
  },
  {
   "cell_type": "code",
   "execution_count": 38,
   "metadata": {},
   "outputs": [],
   "source": [
    "# exchangeList > li:nth-child(1) > a.head.usd > div > span.value\n",
    "# 원달러 환율로 바로가는 코드"
   ]
  },
  {
   "cell_type": "markdown",
   "metadata": {},
   "source": [
    "#### 개발자도구 (f12) => copy select"
   ]
  },
  {
   "cell_type": "markdown",
   "metadata": {},
   "source": [
    "## 시카고 샌드위치 맛집 소개 사이트"
   ]
  },
  {
   "cell_type": "code",
   "execution_count": 39,
   "metadata": {},
   "outputs": [],
   "source": [
    "from bs4 import BeautifulSoup \n",
    "from urllib.request import urlopen, Request"
   ]
  },
  {
   "cell_type": "code",
   "execution_count": 40,
   "metadata": {},
   "outputs": [
    {
     "data": {
      "text/plain": [
       "<html>\n",
       "<head>\n",
       "<title>Very Simple HTML Code by PinkWink</title>\n",
       "</head>\n",
       "<body>\n",
       "<div>\n",
       "<p class=\"inner-text first-item\" id=\"first\">\n",
       "                Happy PinkWink.\n",
       "                <a href=\"http://www.pinkwink.kr\" id=\"pw-link\">PinkWink</a>\n",
       "</p>\n",
       "<p class=\"inner-text second-item\">\n",
       "                Happy Data Science.\n",
       "                <a href=\"https://www.python.org\" id=\"py-link\">Python</a>\n",
       "</p>\n",
       "</div>\n",
       "<p class=\"outer-text first-item\" id=\"second\">\n",
       "<b>\n",
       "                Data Science is funny.\n",
       "            </b>\n",
       "</p>\n",
       "<p class=\"outer-text\">\n",
       "<b>\n",
       "                All I need is Love.\n",
       "            </b>\n",
       "</p>\n",
       "</body>\n",
       "</html>"
      ]
     },
     "execution_count": 40,
     "metadata": {},
     "output_type": "execute_result"
    }
   ],
   "source": [
    "url_base = 'https://www.chicagomag.com'\n",
    "url_sub = '/Chicago-Magazine/November-2012/Best-Sandwiches-Chicago/'\n",
    "\n",
    "# 메인화면에서 서브 페이지(50개 a)의 정보를 추출\n",
    "# 1. 메인화면 진입\n",
    "url = url_base + url_sub # url : 메인페이지 URL\n",
    "req = Request(url, headers={'User-Agent' : 'Mozilla/5.0'}) # 브라우저에서 요청하는 것 처럼 인식시키는 것\n",
    "html_ = urlopen(req) \n",
    "html"
   ]
  },
  {
   "cell_type": "code",
   "execution_count": 41,
   "metadata": {},
   "outputs": [],
   "source": [
    "# https://www.chicagomag.com/Chicago-Magazine/November-2012/\n",
    "# Best-Sandwiches-in-Chicago-Old-Oak-Tap-BLT/\n",
    "\n",
    "# https://www.chicagomag.com/Chicago-Magazine/November-2012/\n",
    "# Best-Sandwiches-in-Chicago-Au-Cheval-Fried-Bologna/"
   ]
  },
  {
   "cell_type": "code",
   "execution_count": 42,
   "metadata": {},
   "outputs": [
    {
     "data": {
      "text/plain": [
       "bs4.BeautifulSoup"
      ]
     },
     "execution_count": 42,
     "metadata": {},
     "output_type": "execute_result"
    }
   ],
   "source": [
    "# 파싱\n",
    "soup = BeautifulSoup(html_, 'html.parser')\n",
    "type(soup)"
   ]
  },
  {
   "cell_type": "code",
   "execution_count": 43,
   "metadata": {},
   "outputs": [
    {
     "data": {
      "text/plain": [
       "[<div class=\"sammy\" style=\"position: relative;\">\n",
       " <div class=\"sammyRank\">1</div>\n",
       " <div class=\"sammyListing\"><a href=\"/Chicago-Magazine/November-2012/Best-Sandwiches-in-Chicago-Old-Oak-Tap-BLT/\"><b>BLT</b><br/>\n",
       " Old Oak Tap<br/>\n",
       " <em>Read more</em> </a></div>\n",
       " </div>,\n",
       " <div class=\"sammy\" style=\"position: relative;\">\n",
       " <div class=\"sammyRank\">2</div>\n",
       " <div class=\"sammyListing\"><a href=\"/Chicago-Magazine/November-2012/Best-Sandwiches-in-Chicago-Au-Cheval-Fried-Bologna/\"><b>Fried Bologna</b><br/>\n",
       " Au Cheval<br/>\n",
       " <em>Read more</em> </a></div>\n",
       " </div>,\n",
       " <div class=\"sammy\" style=\"position: relative;\">\n",
       " <div class=\"sammyRank\">3</div>\n",
       " <div class=\"sammyListing\"><a href=\"/Chicago-Magazine/November-2012/Best-Sandwiches-in-Chicago-Xoco-Woodland-Mushroom/\"><b>Woodland Mushroom</b><br/>\n",
       " Xoco<br/>\n",
       " <em>Read more</em> </a></div>\n",
       " </div>,\n",
       " <div class=\"sammy\" style=\"position: relative;\">\n",
       " <div class=\"sammyRank\">4</div>\n",
       " <div class=\"sammyListing\"><a href=\"/Chicago-Magazine/November-2012/Best-Sandwiches-in-Chicago-Als-Deli-Roast-Beef/\"><b>Roast Beef</b><br/>\n",
       " Al’s Deli<br/>\n",
       " <em>Read more</em> </a></div>\n",
       " </div>,\n",
       " <div class=\"sammy\" style=\"position: relative;\">\n",
       " <div class=\"sammyRank\">5</div>\n",
       " <div class=\"sammyListing\"><a href=\"/Chicago-Magazine/November-2012/Best-Sandwiches-in-Chicago-Publican-Quality-Meats-PB-L/\"><b>PB&amp;L</b><br/>\n",
       " Publican Quality Meats<br/>\n",
       " <em>Read more</em> </a></div>\n",
       " </div>,\n",
       " <div class=\"sammy\" style=\"position: relative;\">\n",
       " <div class=\"sammyRank\">6</div>\n",
       " <div class=\"sammyListing\"><a href=\"http://www.chicagomag.com/Chicago-Magazine/November-2012/Best-Sandwiches-in-Chicago-Hendrickx-Belgian-Bread-Crafter-Belgian-Chicken-Curry-Salad/\"><b>Belgian Chicken Curry Salad</b><br/>\n",
       " Hendrickx Belgian Bread Crafter<br/>\n",
       " <em>Read more</em> </a></div>\n",
       " </div>,\n",
       " <div class=\"sammy\" style=\"position: relative;\">\n",
       " <div class=\"sammyRank\">7</div>\n",
       " <div class=\"sammyListing\"><a href=\"/Chicago-Magazine/November-2012/Best-Sandwiches-in-Chicago-Acadia-Lobster-Roll/\"><b>Lobster Roll</b><br/>\n",
       " Acadia<br/>\n",
       " <em>Read more</em> </a></div>\n",
       " </div>,\n",
       " <div class=\"sammy\" style=\"position: relative;\">\n",
       " <div class=\"sammyRank\">8</div>\n",
       " <div class=\"sammyListing\"><a href=\"/Chicago-Magazine/November-2012/Best-Sandwiches-in-Chicago-Birchwood-Kitchen-Smoked-Salmon-Salad/\"><b>Smoked Salmon Salad</b><br/>\n",
       " Birchwood Kitchen<br/>\n",
       " <em>Read more</em> </a></div>\n",
       " </div>,\n",
       " <div class=\"sammy\" style=\"position: relative;\">\n",
       " <div class=\"sammyRank\">9</div>\n",
       " <div class=\"sammyListing\"><a href=\"/Chicago-Magazine/November-2012/Best-Sandwiches-in-Chicago-Cemitas-Puebla-Atomica-Cemitas/\"><b>Atomica Cemitas</b><br/>\n",
       " Cemitas Puebla<br/>\n",
       " <em>Read more</em> </a></div>\n",
       " </div>,\n",
       " <div class=\"sammy\" style=\"position: relative;\">\n",
       " <div class=\"sammyRank\">10</div>\n",
       " <div class=\"sammyListing\"><a href=\"/Chicago-Magazine/November-2012/Best-Sandwiches-in-Chicago-Nana-Grilled-Laughing-Bird-Shrimp-and-Fried-Oyster-Po-Boy/\"><b>Grilled Laughing Bird Shrimp and Fried Po’ Boy</b><br/>\n",
       " Nana<br/>\n",
       " <em>Read more</em> </a></div>\n",
       " </div>,\n",
       " <div class=\"sammy\" style=\"position: relative;\">\n",
       " <div class=\"sammyRank\">11</div>\n",
       " <div class=\"sammyListing\"><a href=\"http://www.chicagomag.com/Chicago-Magazine/November-2012/Best-Sandwiches-in-Chicago-Lula-Cafe-Ham-and-Raclette-Panino/\"><b>Ham and Raclette Panino</b><br/>\n",
       " Lula Cafe<br/>\n",
       " <em>Read more</em> </a></div>\n",
       " </div>,\n",
       " <div class=\"sammy\" style=\"position: relative;\">\n",
       " <div class=\"sammyRank\">12</div>\n",
       " <div class=\"sammyListing\"><a href=\"http://www.chicagomag.com/Chicago-Magazine/November-2012/Best-Sandwiches-in-Chicago-Ricobenes-Breaded-Steak/\"><b>Breaded Steak</b><br/>\n",
       " Ricobene’s<br/>\n",
       " <em>Read more</em> </a></div>\n",
       " </div>,\n",
       " <div class=\"sammy\" style=\"position: relative;\">\n",
       " <div class=\"sammyRank\">13</div>\n",
       " <div class=\"sammyListing\"><a href=\"http://www.chicagomag.com/Chicago-Magazine/November-2012/Best-Sandwiches-in-Chicago-Frog-n-Snail-The-Hawkeye/\"><b>The Hawkeye</b><br/>\n",
       " Frog n Snail<br/>\n",
       " <em>Read more</em> </a></div>\n",
       " </div>,\n",
       " <div class=\"sammy\" style=\"position: relative;\">\n",
       " <div class=\"sammyRank\">14</div>\n",
       " <div class=\"sammyListing\"><a href=\"http://www.chicagomag.com/Chicago-Magazine/November-2012/Best-Sandwiches-in-Chicago-Crosbys-Kitchen-Chicken-Dip/\"><b>Chicken Dip</b><br/>\n",
       " Crosby’s Kitchen<br/>\n",
       " <em>Read more</em> </a></div>\n",
       " </div>,\n",
       " <div class=\"sammy\" style=\"position: relative;\">\n",
       " <div class=\"sammyRank\">15</div>\n",
       " <div class=\"sammyListing\"><a href=\"http://www.chicagomag.com/Chicago-Magazine/November-2012/Best-Sandwiches-in-Chicago-Longman-and-Eagle-Wild-Boar-Sloppy-Joe/\"><b>Wild Boar Sloppy Joe</b><br/>\n",
       " Longman &amp; Eagle<br/>\n",
       " <em>Read more</em> </a></div>\n",
       " </div>,\n",
       " <div class=\"sammy\" style=\"position: relative;\">\n",
       " <div class=\"sammyRank\">16</div>\n",
       " <div class=\"sammyListing\"><a href=\"http://www.chicagomag.com/Chicago-Magazine/November-2012/Best-Sandwiches-in-Chicago-Bari-Meatball-Sub/\"><b>Meatball Sub</b><br/>\n",
       " Bari<br/>\n",
       " <em>Read more</em> </a></div>\n",
       " </div>,\n",
       " <div class=\"sammy\" style=\"position: relative;\">\n",
       " <div class=\"sammyRank\">17</div>\n",
       " <div class=\"sammyListing\"><a href=\"http://www.chicagomag.com/Chicago-Magazine/November-2012/Best-Sandwiches-in-Chicago-Mannys-Corned-Beef/\"><b>Corned Beef</b><br/>\n",
       " Manny’s<br/>\n",
       " <em>Read more</em> </a></div>\n",
       " </div>,\n",
       " <div class=\"sammy\" style=\"position: relative;\">\n",
       " <div class=\"sammyRank\">18</div>\n",
       " <div class=\"sammyListing\"><a href=\"http://www.chicagomag.com/Chicago-Magazine/November-2012/Best-Sandwiches-in-Chicago-Eggys-Turkey-Club/\"><b>Turkey Club</b><br/>\n",
       " Eggy’s<br/>\n",
       " <em>Read more</em> </a></div>\n",
       " </div>,\n",
       " <div class=\"sammy\" style=\"position: relative;\">\n",
       " <div class=\"sammyRank\">19</div>\n",
       " <div class=\"sammyListing\"><a href=\"http://www.chicagomag.com/Chicago-Magazine/November-2012/Best-Sandwiches-in-Chicago-Old-Jerusalem-Falafel/\"><b>Falafel</b><br/>\n",
       " Old Jerusalem<br/>\n",
       " <em>Read more</em> </a></div>\n",
       " </div>,\n",
       " <div class=\"sammy\" style=\"position: relative;\">\n",
       " <div class=\"sammyRank\">20</div>\n",
       " <div class=\"sammyListing\"><a href=\"http://www.chicagomag.com/Chicago-Magazine/November-2012/Best-Sandwiches-in-Chicago-Mindys-HotChocolate-Crab-Cake/\"><b>Crab Cake</b><br/>\n",
       " Mindy’s HotChocolate<br/>\n",
       " <em>Read more</em> </a></div>\n",
       " </div>,\n",
       " <div class=\"sammy\" style=\"position: relative;\">\n",
       " <div class=\"sammyRank\">21</div>\n",
       " <div class=\"sammyListing\"><a href=\"http://www.chicagomag.com/Chicago-Magazine/November-2012/Best-Sandwiches-in-Chicago-Olgas-Delicatessen-Chicken-Schnitzel/\"><b>Chicken Schnitzel</b><br/>\n",
       " Olga’s Delicatessen<br/>\n",
       " <em>Read more</em> </a></div>\n",
       " </div>,\n",
       " <div class=\"sammy\" style=\"position: relative;\">\n",
       " <div class=\"sammyRank\">22</div>\n",
       " <div class=\"sammyListing\"><a href=\"http://www.chicagomag.com/Chicago-Magazine/November-2012/Best-Sandwiches-in-Chicago-Dawali-Mediterranean-Kitchen-Shawarma/\"><b>Shawarma</b><br/>\n",
       " Dawali Mediterranean Kitchen<br/>\n",
       " <em>Read more</em> </a></div>\n",
       " </div>,\n",
       " <div class=\"sammy\" style=\"position: relative;\">\n",
       " <div class=\"sammyRank\">23</div>\n",
       " <div class=\"sammyListing\"><a href=\"http://www.chicagomag.com/Chicago-Magazine/November-2012/Best-Sandwiches-in-Chicago-Big-Jones-Toasted-Pimiento-Cheese/\"><b>Toasted Pimiento Cheese</b><br/>\n",
       " Big Jones<br/>\n",
       " <em>Read more</em> </a></div>\n",
       " </div>,\n",
       " <div class=\"sammy\" style=\"position: relative;\">\n",
       " <div class=\"sammyRank\">24</div>\n",
       " <div class=\"sammyListing\"><a href=\"http://www.chicagomag.com/Chicago-Magazine/November-2012/Best-Sandwiches-in-Chicago-La-Pane-Vegetarian-Panino/\"><b>Vegetarian Panino</b><br/>\n",
       " La Pane<br/>\n",
       " <em>Read more</em> </a></div>\n",
       " </div>,\n",
       " <div class=\"sammy\" style=\"position: relative;\">\n",
       " <div class=\"sammyRank\">25</div>\n",
       " <div class=\"sammyListing\"><a href=\"/Chicago-Magazine/November-2012/Best-Sandwiches-in-Chicago-Pastoral-Cali-Chevre/\"><b>Cali Chèvre</b><br/>\n",
       " Pastoral<br/>\n",
       " <em>Read more</em> </a></div>\n",
       " </div>,\n",
       " <div class=\"sammy\" style=\"position: relative;\">\n",
       " <div class=\"sammyRank\">26</div>\n",
       " <div class=\"sammyListing\"><a href=\"http://www.chicagomag.com/Chicago-Magazine/November-2012/Best-Sandwiches-in-Chicago-Maxs-Deli-Pastrami/\"><b>Pastrami</b><br/>\n",
       " Max’s Deli<br/>\n",
       " <em>Read more</em> </a></div>\n",
       " </div>,\n",
       " <div class=\"sammy\" style=\"position: relative;\">\n",
       " <div class=\"sammyRank\">27</div>\n",
       " <div class=\"sammyListing\"><a href=\"http://www.chicagomag.com/Chicago-Magazine/November-2012/Best-Sandwiches-in-Chicago-Luckys-Sandwich-Co-The-Fredo/\"><b>The Fredo</b><br/>\n",
       " Lucky’s Sandwich Co.<br/>\n",
       " <em>Read more</em> </a></div>\n",
       " </div>,\n",
       " <div class=\"sammy\" style=\"position: relative;\">\n",
       " <div class=\"sammyRank\">28</div>\n",
       " <div class=\"sammyListing\"><a href=\"http://www.chicagomag.com/Chicago-Magazine/November-2012/Best-Sandwiches-in-Chicago-City-Provisions-Smoked-Ham/\"><b>Smoked Ham</b><br/>\n",
       " City Provisions<br/>\n",
       " <em>Read more</em> </a></div>\n",
       " </div>,\n",
       " <div class=\"sammy\" style=\"position: relative;\">\n",
       " <div class=\"sammyRank\">29</div>\n",
       " <div class=\"sammyListing\"><a href=\"http://www.chicagomag.com/Chicago-Magazine/November-2012/Best-Sandwiches-in-Chicago-Papas-Cache-Sabroso-Jibarito/\"><b>Jibarito</b><br/>\n",
       " Papa’s Cache Sabroso<br/>\n",
       " <em>Read more</em> </a></div>\n",
       " </div>,\n",
       " <div class=\"sammy\" style=\"position: relative;\">\n",
       " <div class=\"sammyRank\">30</div>\n",
       " <div class=\"sammyListing\"><a href=\"http://www.chicagomag.com/Chicago-Magazine/November-2012/Best-Sandwiches-in-Chicago-Bavettes-Bar-and-Boeuf-Shaved-Prime-Rib/\"><b>Shaved Prime Rib</b><br/>\n",
       " Bavette’s Bar &amp; Boeuf<br/>\n",
       " <em>Read more</em> </a></div>\n",
       " </div>,\n",
       " <div class=\"sammy\" style=\"position: relative;\">\n",
       " <div class=\"sammyRank\">31</div>\n",
       " <div class=\"sammyListing\"><a href=\"http://www.chicagomag.com/Chicago-Magazine/November-2012/Best-Sandwiches-in-Chicago-Hannahs-Bretzel-Serrano-Ham-and-Manchego-Cheese/\"><b>Serrano Ham and Manchego Cheese</b><br/>\n",
       " Hannah’s Bretzel<br/>\n",
       " <em>Read more</em> </a></div>\n",
       " </div>,\n",
       " <div class=\"sammy\" style=\"position: relative;\">\n",
       " <div class=\"sammyRank\">32</div>\n",
       " <div class=\"sammyListing\"><a href=\"http://www.chicagomag.com/Chicago-Magazine/November-2012/Best-Sandwiches-in-Chicago-La-Fournette-Tuna-Salad/\"><b>Tuna Salad</b><br/>\n",
       " La Fournette<br/>\n",
       " <em>Read more</em> </a></div>\n",
       " </div>,\n",
       " <div class=\"sammy\" style=\"position: relative;\">\n",
       " <div class=\"sammyRank\">33</div>\n",
       " <div class=\"sammyListing\"><a href=\"http://www.chicagomag.com/Chicago-Magazine/November-2012/Best-Sandwiches-in-Chicago-Paramount-Room-Paramount-Reuben/\"><b>Paramount Reuben</b><br/>\n",
       " Paramount Room<br/>\n",
       " <em>Read more</em> </a></div>\n",
       " </div>,\n",
       " <div class=\"sammy\" style=\"position: relative;\">\n",
       " <div class=\"sammyRank\">34</div>\n",
       " <div class=\"sammyListing\"><a href=\"http://www.chicagomag.com/Chicago-Magazine/November-2012/Best-Sandwiches-in-Chicago-Melt-Sandwich-Shoppe-The-Istanbul/\"><b>The Istanbul</b><br/>\n",
       " Melt Sandwich Shoppe<br/>\n",
       " <em>Read more</em> </a></div>\n",
       " </div>,\n",
       " <div class=\"sammy\" style=\"position: relative;\">\n",
       " <div class=\"sammyRank\">35</div>\n",
       " <div class=\"sammyListing\"><a href=\"http://www.chicagomag.com/Chicago-Magazine/November-2012/Best-Sandwiches-in-Chicago-Floriole-Cafe-and-Bakery-BAD/\"><b>B.A.D.</b><br/>\n",
       " Floriole Cafe &amp; Bakery<br/>\n",
       " <em>Read more</em> </a></div>\n",
       " </div>,\n",
       " <div class=\"sammy\" style=\"position: relative;\">\n",
       " <div class=\"sammyRank\">36</div>\n",
       " <div class=\"sammyListing\"><a href=\"http://www.chicagomag.com/Chicago-Magazine/November-2012/Best-Sandwiches-in-Chicago-First-Slice-Pie-Cafe-Duck-Confit-and-Mozzarella/\"><b>Duck Confit and Mozzarella</b><br/>\n",
       " First Slice Pie Café<br/>\n",
       " <em>Read more</em> </a></div>\n",
       " </div>,\n",
       " <div class=\"sammy\" style=\"position: relative;\">\n",
       " <div class=\"sammyRank\">37</div>\n",
       " <div class=\"sammyListing\"><a href=\"http://www.chicagomag.com/Chicago-Magazine/November-2012/Best-Sandwiches-in-Chicago-Troquet-Croque-Monsieur/\"><b>Croque Monsieur</b><br/>\n",
       " Troquet<br/>\n",
       " <em>Read more</em> </a></div>\n",
       " </div>,\n",
       " <div class=\"sammy\" style=\"position: relative;\">\n",
       " <div class=\"sammyRank\">38</div>\n",
       " <div class=\"sammyListing\"><a href=\"http://www.chicagomag.com/Chicago-Magazine/November-2012/Best-Sandwiches-in-Chicago-Grahamwich-Green-Garbanzo/\"><b>Green Garbanzo</b><br/>\n",
       " Grahamwich<br/>\n",
       " <em>Read more</em> </a></div>\n",
       " </div>,\n",
       " <div class=\"sammy\" style=\"position: relative;\">\n",
       " <div class=\"sammyRank\">39</div>\n",
       " <div class=\"sammyListing\"><a href=\"http://www.chicagomag.com/Chicago-Magazine/November-2012/Best-Sandwiches-in-Chicago-Saigon-Sisters-The-Hen-House/\"><b>The Hen House</b><br/>\n",
       " Saigon Sisters<br/>\n",
       " <em>Read more</em> </a></div>\n",
       " </div>,\n",
       " <div class=\"sammy\" style=\"position: relative;\">\n",
       " <div class=\"sammyRank\">40</div>\n",
       " <div class=\"sammyListing\"><a href=\"http://www.chicagomag.com/Chicago-Magazine/November-2012/Best-Sandwiches-in-Chicago-Rosalias-Deli-Tuscan-Chicken/\"><b>Tuscan Chicken</b><br/>\n",
       " Rosalia’s Deli<br/>\n",
       " <em>Read more</em> </a></div>\n",
       " </div>,\n",
       " <div class=\"sammy\" style=\"position: relative;\">\n",
       " <div class=\"sammyRank\">41</div>\n",
       " <div class=\"sammyListing\"><a href=\"http://www.chicagomag.com/Chicago-Magazine/November-2012/Best-Sandwiches-in-Chicago-Z-and-H-MarketCafe-The-Marty/\"><b>The Marty </b><br/>\n",
       " Z&amp;H MarketCafe<br/>\n",
       " <em>Read more</em> </a></div>\n",
       " </div>,\n",
       " <div class=\"sammy\" style=\"position: relative;\">\n",
       " <div class=\"sammyRank\">42</div>\n",
       " <div class=\"sammyListing\"><a href=\"http://www.chicagomag.com/Chicago-Magazine/November-2012/Best-Sandwiches-in-Chicago-Market-House-on-the-Square-Whitefish/\"><b>Whitefish</b><br/>\n",
       " Market House on the Square<br/>\n",
       " <em>Read more</em> </a></div>\n",
       " </div>,\n",
       " <div class=\"sammy\" style=\"position: relative;\">\n",
       " <div class=\"sammyRank\">43</div>\n",
       " <div class=\"sammyListing\"><a href=\"http://www.chicagomag.com/Chicago-Magazine/November-2012/Best-Sandwiches-in-Chicago-Elaines-Coffee-Call-Oat-Bread-Pecan-Butter-and-Fruit-Jam/\"><b>Oat Bread, Pecan Butter, and Fruit Jam</b><br/>\n",
       " Elaine’s Coffee Call<br/>\n",
       " <em>Read more</em> </a></div>\n",
       " </div>,\n",
       " <div class=\"sammy\" style=\"position: relative;\">\n",
       " <div class=\"sammyRank\">44</div>\n",
       " <div class=\"sammyListing\"><a href=\"http://www.chicagomag.com/Chicago-Magazine/November-2012/Best-Sandwiches-in-Chicago-Marion-Street-Cheese-Market-Cauliflower-Melt/\"><b>Cauliflower Melt</b><br/>\n",
       " Marion Street Cheese Market<br/>\n",
       " <em>Read more</em> </a></div>\n",
       " </div>,\n",
       " <div class=\"sammy\" style=\"position: relative;\">\n",
       " <div class=\"sammyRank\">45</div>\n",
       " <div class=\"sammyListing\"><a href=\"http://www.chicagomag.com/Chicago-Magazine/November-2012/Best-Sandwiches-in-Chicago-Cafecito-Cubano/\"><b>Cubana</b><br/>\n",
       " Cafecito<br/>\n",
       " <em>Read more</em> </a></div>\n",
       " </div>,\n",
       " <div class=\"sammy\" style=\"position: relative;\">\n",
       " <div class=\"sammyRank\">46</div>\n",
       " <div class=\"sammyListing\"><a href=\"http://www.chicagomag.com/Chicago-Magazine/November-2012/Best-Sandwiches-in-Chicago-Chickpea-Kufta/\"><b>Kufta</b><br/>\n",
       " Chickpea<br/>\n",
       " <em>Read more</em> </a></div>\n",
       " </div>,\n",
       " <div class=\"sammy\" style=\"position: relative;\">\n",
       " <div class=\"sammyRank\">47</div>\n",
       " <div class=\"sammyListing\"><a href=\"http://www.chicagomag.com/Chicago-Magazine/November-2012/Best-Sandwiches-in-Chicago-The-Goddess-and-Grocer-Debbies-Egg-Salad/\"><b>Debbie’s Egg Salad</b><br/>\n",
       " The Goddess and Grocer<br/>\n",
       " <em>Read more</em> </a></div>\n",
       " </div>,\n",
       " <div class=\"sammy\" style=\"position: relative;\">\n",
       " <div class=\"sammyRank\">48</div>\n",
       " <div class=\"sammyListing\"><a href=\"http://www.chicagomag.com/Chicago-Magazine/November-2012/Best-Sandwiches-in-Chicago-Zenwich-Beef-Curry/\"><b>Beef Curry</b><br/>\n",
       " Zenwich<br/>\n",
       " <em>Read more</em> </a></div>\n",
       " </div>,\n",
       " <div class=\"sammy\" style=\"position: relative;\">\n",
       " <div class=\"sammyRank\">49</div>\n",
       " <div class=\"sammyListing\"><a href=\"http://www.chicagomag.com/Chicago-Magazine/November-2012/Best-Sandwiches-in-Chicago-Toni-Patisserie-Le-Vegetarien/\"><b>Le Végétarien</b><br/>\n",
       " Toni Patisserie<br/>\n",
       " <em>Read more</em> </a></div>\n",
       " </div>,\n",
       " <div class=\"sammy\" style=\"position: relative; border-bottom: 0\">\n",
       " <div class=\"sammyRank\">50</div>\n",
       " <div class=\"sammyListing\"><a href=\"http://www.chicagomag.com/Chicago-Magazine/November-2012/Best-Sandwiches-in-Chicago-Phoebes-Bakery-The-Gatsby/\"><b>The Gatsby</b><br/>\n",
       " Phoebe’s Bakery<br/>\n",
       " <em>Read more</em> </a></div>\n",
       " </div>]"
      ]
     },
     "execution_count": 43,
     "metadata": {},
     "output_type": "execute_result"
    }
   ],
   "source": [
    "soup.find_all('div', class_='sammy')"
   ]
  },
  {
   "cell_type": "code",
   "execution_count": 44,
   "metadata": {},
   "outputs": [
    {
     "data": {
      "text/plain": [
       "<div class=\"sammy\" style=\"position: relative;\">\n",
       "<div class=\"sammyRank\">1</div>\n",
       "<div class=\"sammyListing\"><a href=\"/Chicago-Magazine/November-2012/Best-Sandwiches-in-Chicago-Old-Oak-Tap-BLT/\"><b>BLT</b><br/>\n",
       "Old Oak Tap<br/>\n",
       "<em>Read more</em> </a></div>\n",
       "</div>"
      ]
     },
     "execution_count": 44,
     "metadata": {},
     "output_type": "execute_result"
    }
   ],
   "source": [
    "# 1등만 끄집어 내자\n",
    "soup.find_all('div', class_='sammy')[0]"
   ]
  },
  {
   "cell_type": "markdown",
   "metadata": {},
   "source": [
    "- Rank 확인!\n",
    "- href : 상대 주소\n",
    "- 메뉴\n",
    "- 주소"
   ]
  },
  {
   "cell_type": "code",
   "execution_count": 45,
   "metadata": {},
   "outputs": [],
   "source": [
    "tmp_one = soup.find_all('div', class_='sammy')[0]"
   ]
  },
  {
   "cell_type": "code",
   "execution_count": 46,
   "metadata": {},
   "outputs": [
    {
     "data": {
      "text/plain": [
       "bs4.element.Tag"
      ]
     },
     "execution_count": 46,
     "metadata": {},
     "output_type": "execute_result"
    }
   ],
   "source": [
    "type(tmp_one)"
   ]
  },
  {
   "cell_type": "code",
   "execution_count": 47,
   "metadata": {},
   "outputs": [
    {
     "data": {
      "text/plain": [
       "<div class=\"sammy\" style=\"position: relative;\">\n",
       "<div class=\"sammyRank\">1</div>\n",
       "<div class=\"sammyListing\"><a href=\"/Chicago-Magazine/November-2012/Best-Sandwiches-in-Chicago-Old-Oak-Tap-BLT/\"><b>BLT</b><br/>\n",
       "Old Oak Tap<br/>\n",
       "<em>Read more</em> </a></div>\n",
       "</div>"
      ]
     },
     "execution_count": 47,
     "metadata": {},
     "output_type": "execute_result"
    }
   ],
   "source": [
    "tmp_one"
   ]
  },
  {
   "cell_type": "code",
   "execution_count": 48,
   "metadata": {},
   "outputs": [
    {
     "data": {
      "text/plain": [
       "<div class=\"sammyRank\">1</div>"
      ]
     },
     "execution_count": 48,
     "metadata": {},
     "output_type": "execute_result"
    }
   ],
   "source": [
    "# Rank 가져오기\n",
    "tmp_one.find(class_='sammyRank')"
   ]
  },
  {
   "cell_type": "code",
   "execution_count": 49,
   "metadata": {},
   "outputs": [
    {
     "data": {
      "text/plain": [
       "'1'"
      ]
     },
     "execution_count": 49,
     "metadata": {},
     "output_type": "execute_result"
    }
   ],
   "source": [
    "tmp_one.find(class_='sammyRank').string"
   ]
  },
  {
   "cell_type": "code",
   "execution_count": 50,
   "metadata": {},
   "outputs": [
    {
     "data": {
      "text/plain": [
       "'1'"
      ]
     },
     "execution_count": 50,
     "metadata": {},
     "output_type": "execute_result"
    }
   ],
   "source": [
    "tmp_one.find(class_='sammyRank').get_text()"
   ]
  },
  {
   "cell_type": "code",
   "execution_count": 51,
   "metadata": {},
   "outputs": [
    {
     "data": {
      "text/plain": [
       "<div class=\"sammyListing\"><a href=\"/Chicago-Magazine/November-2012/Best-Sandwiches-in-Chicago-Old-Oak-Tap-BLT/\"><b>BLT</b><br/>\n",
       "Old Oak Tap<br/>\n",
       "<em>Read more</em> </a></div>"
      ]
     },
     "execution_count": 51,
     "metadata": {},
     "output_type": "execute_result"
    }
   ],
   "source": [
    "tmp_one.find(class_='sammyListing')"
   ]
  },
  {
   "cell_type": "code",
   "execution_count": 52,
   "metadata": {},
   "outputs": [
    {
     "data": {
      "text/plain": [
       "'BLT\\nOld Oak Tap\\nRead more '"
      ]
     },
     "execution_count": 52,
     "metadata": {},
     "output_type": "execute_result"
    }
   ],
   "source": [
    "tmp_one.find(class_='sammyListing').get_text() # Text == String"
   ]
  },
  {
   "cell_type": "code",
   "execution_count": 53,
   "metadata": {},
   "outputs": [
    {
     "data": {
      "text/plain": [
       "<a href=\"/Chicago-Magazine/November-2012/Best-Sandwiches-in-Chicago-Old-Oak-Tap-BLT/\"><b>BLT</b><br/>\n",
       "Old Oak Tap<br/>\n",
       "<em>Read more</em> </a>"
      ]
     },
     "execution_count": 53,
     "metadata": {},
     "output_type": "execute_result"
    }
   ],
   "source": [
    "tmp_one.find('a')"
   ]
  },
  {
   "cell_type": "code",
   "execution_count": 54,
   "metadata": {},
   "outputs": [
    {
     "data": {
      "text/plain": [
       "'/Chicago-Magazine/November-2012/Best-Sandwiches-in-Chicago-Old-Oak-Tap-BLT/'"
      ]
     },
     "execution_count": 54,
     "metadata": {},
     "output_type": "execute_result"
    }
   ],
   "source": [
    "tmp_one.find('a')['href'] # attribute 접근할 때 사용"
   ]
  },
  {
   "cell_type": "code",
   "execution_count": 55,
   "metadata": {},
   "outputs": [],
   "source": [
    "tmp_string = \\\n",
    "tmp_one.find(class_='sammyListing').get_text()"
   ]
  },
  {
   "cell_type": "code",
   "execution_count": 56,
   "metadata": {},
   "outputs": [
    {
     "data": {
      "text/plain": [
       "'BLT\\nOld Oak Tap\\nRead more '"
      ]
     },
     "execution_count": 56,
     "metadata": {},
     "output_type": "execute_result"
    }
   ],
   "source": [
    "tmp_string"
   ]
  },
  {
   "cell_type": "code",
   "execution_count": 57,
   "metadata": {},
   "outputs": [
    {
     "data": {
      "text/plain": [
       "['BLT', 'Old Oak Tap', 'Read more ']"
      ]
     },
     "execution_count": 57,
     "metadata": {},
     "output_type": "execute_result"
    }
   ],
   "source": [
    "tmp_string.split('\\n')"
   ]
  },
  {
   "cell_type": "code",
   "execution_count": 58,
   "metadata": {},
   "outputs": [
    {
     "name": "stdout",
     "output_type": "stream",
     "text": [
      "BLT\n",
      "Old Oak Tap\n"
     ]
    }
   ],
   "source": [
    "print(tmp_string.split('\\n')[0])\n",
    "print(tmp_string.split('\\n')[1])"
   ]
  },
  {
   "cell_type": "code",
   "execution_count": 59,
   "metadata": {},
   "outputs": [],
   "source": [
    "from urllib.parse import urljoin # URL 연결 함수"
   ]
  },
  {
   "cell_type": "code",
   "execution_count": 60,
   "metadata": {},
   "outputs": [],
   "source": [
    "# Rank, main_menu, cage_name, url_add 추출 => 저장\n",
    "rank = []\n",
    "main_menu = []\n",
    "cafe_name = []\n",
    "url_add = []\n",
    "\n",
    "# 순위 리스트 50 추출\n",
    "list_soup = soup.find_all('div', class_='sammy')\n",
    "\n",
    "for item in list_soup:\n",
    "    # 1. 순위 저장\n",
    "    rank.append(item.find(class_='sammyRank').get_text()) # 나온놈 append\n",
    "    \n",
    "    # 2. main_menu, cafe_name 추출, 저장\n",
    "    tmp_string = item.find(class_='sammyListing').get_text()\n",
    "    main_menu.append(tmp_string.split('\\n')[0]) # 메인메뉴가 0번째\n",
    "    cafe_name.append(tmp_string.split('\\n')[1]) # 카페이름 1번째\n",
    "    \n",
    "    # 3. URL 추출, 저장\n",
    "    url_add.append(urljoin(url_base, item.find('a')['href'])) # 합치는 중\n",
    "    \n",
    "    "
   ]
  },
  {
   "cell_type": "code",
   "execution_count": 61,
   "metadata": {},
   "outputs": [
    {
     "data": {
      "text/plain": [
       "['1',\n",
       " '2',\n",
       " '3',\n",
       " '4',\n",
       " '5',\n",
       " '6',\n",
       " '7',\n",
       " '8',\n",
       " '9',\n",
       " '10',\n",
       " '11',\n",
       " '12',\n",
       " '13',\n",
       " '14',\n",
       " '15',\n",
       " '16',\n",
       " '17',\n",
       " '18',\n",
       " '19',\n",
       " '20',\n",
       " '21',\n",
       " '22',\n",
       " '23',\n",
       " '24',\n",
       " '25',\n",
       " '26',\n",
       " '27',\n",
       " '28',\n",
       " '29',\n",
       " '30',\n",
       " '31',\n",
       " '32',\n",
       " '33',\n",
       " '34',\n",
       " '35',\n",
       " '36',\n",
       " '37',\n",
       " '38',\n",
       " '39',\n",
       " '40',\n",
       " '41',\n",
       " '42',\n",
       " '43',\n",
       " '44',\n",
       " '45',\n",
       " '46',\n",
       " '47',\n",
       " '48',\n",
       " '49',\n",
       " '50']"
      ]
     },
     "execution_count": 61,
     "metadata": {},
     "output_type": "execute_result"
    }
   ],
   "source": [
    "rank"
   ]
  },
  {
   "cell_type": "code",
   "execution_count": 62,
   "metadata": {},
   "outputs": [
    {
     "data": {
      "text/plain": [
       "['https://www.chicagomag.com/Chicago-Magazine/November-2012/Best-Sandwiches-in-Chicago-Old-Oak-Tap-BLT/',\n",
       " 'https://www.chicagomag.com/Chicago-Magazine/November-2012/Best-Sandwiches-in-Chicago-Au-Cheval-Fried-Bologna/',\n",
       " 'https://www.chicagomag.com/Chicago-Magazine/November-2012/Best-Sandwiches-in-Chicago-Xoco-Woodland-Mushroom/',\n",
       " 'https://www.chicagomag.com/Chicago-Magazine/November-2012/Best-Sandwiches-in-Chicago-Als-Deli-Roast-Beef/',\n",
       " 'https://www.chicagomag.com/Chicago-Magazine/November-2012/Best-Sandwiches-in-Chicago-Publican-Quality-Meats-PB-L/']"
      ]
     },
     "execution_count": 62,
     "metadata": {},
     "output_type": "execute_result"
    }
   ],
   "source": [
    "url_add[:5]"
   ]
  },
  {
   "cell_type": "markdown",
   "metadata": {},
   "source": [
    "#### DataFrame으로 저장"
   ]
  },
  {
   "cell_type": "code",
   "execution_count": 63,
   "metadata": {},
   "outputs": [],
   "source": [
    "# DataFrema\n",
    "import pandas as pd"
   ]
  },
  {
   "cell_type": "code",
   "execution_count": 64,
   "metadata": {},
   "outputs": [
    {
     "data": {
      "text/html": [
       "<div>\n",
       "<style scoped>\n",
       "    .dataframe tbody tr th:only-of-type {\n",
       "        vertical-align: middle;\n",
       "    }\n",
       "\n",
       "    .dataframe tbody tr th {\n",
       "        vertical-align: top;\n",
       "    }\n",
       "\n",
       "    .dataframe thead th {\n",
       "        text-align: right;\n",
       "    }\n",
       "</style>\n",
       "<table border=\"1\" class=\"dataframe\">\n",
       "  <thead>\n",
       "    <tr style=\"text-align: right;\">\n",
       "      <th></th>\n",
       "      <th>Rank</th>\n",
       "      <th>Menu</th>\n",
       "      <th>Cafe</th>\n",
       "      <th>URL</th>\n",
       "    </tr>\n",
       "  </thead>\n",
       "  <tbody>\n",
       "    <tr>\n",
       "      <th>0</th>\n",
       "      <td>1</td>\n",
       "      <td>BLT</td>\n",
       "      <td>Old Oak Tap</td>\n",
       "      <td>https://www.chicagomag.com/Chicago-Magazine/No...</td>\n",
       "    </tr>\n",
       "    <tr>\n",
       "      <th>1</th>\n",
       "      <td>2</td>\n",
       "      <td>Fried Bologna</td>\n",
       "      <td>Au Cheval</td>\n",
       "      <td>https://www.chicagomag.com/Chicago-Magazine/No...</td>\n",
       "    </tr>\n",
       "    <tr>\n",
       "      <th>2</th>\n",
       "      <td>3</td>\n",
       "      <td>Woodland Mushroom</td>\n",
       "      <td>Xoco</td>\n",
       "      <td>https://www.chicagomag.com/Chicago-Magazine/No...</td>\n",
       "    </tr>\n",
       "    <tr>\n",
       "      <th>3</th>\n",
       "      <td>4</td>\n",
       "      <td>Roast Beef</td>\n",
       "      <td>Al’s Deli</td>\n",
       "      <td>https://www.chicagomag.com/Chicago-Magazine/No...</td>\n",
       "    </tr>\n",
       "    <tr>\n",
       "      <th>4</th>\n",
       "      <td>5</td>\n",
       "      <td>PB&amp;L</td>\n",
       "      <td>Publican Quality Meats</td>\n",
       "      <td>https://www.chicagomag.com/Chicago-Magazine/No...</td>\n",
       "    </tr>\n",
       "  </tbody>\n",
       "</table>\n",
       "</div>"
      ],
      "text/plain": [
       "  Rank               Menu                    Cafe  \\\n",
       "0    1                BLT             Old Oak Tap   \n",
       "1    2      Fried Bologna               Au Cheval   \n",
       "2    3  Woodland Mushroom                    Xoco   \n",
       "3    4         Roast Beef               Al’s Deli   \n",
       "4    5               PB&L  Publican Quality Meats   \n",
       "\n",
       "                                                 URL  \n",
       "0  https://www.chicagomag.com/Chicago-Magazine/No...  \n",
       "1  https://www.chicagomag.com/Chicago-Magazine/No...  \n",
       "2  https://www.chicagomag.com/Chicago-Magazine/No...  \n",
       "3  https://www.chicagomag.com/Chicago-Magazine/No...  \n",
       "4  https://www.chicagomag.com/Chicago-Magazine/No...  "
      ]
     },
     "execution_count": 64,
     "metadata": {},
     "output_type": "execute_result"
    }
   ],
   "source": [
    "data  = {\n",
    "      'Rank' : rank\n",
    "    , 'Menu' : main_menu\n",
    "    , 'Cafe' : cafe_name\n",
    "    , 'URL'  : url_add\n",
    "}\n",
    "df = pd.DataFrame(data)\n",
    "df.head()"
   ]
  },
  {
   "cell_type": "markdown",
   "metadata": {},
   "source": [
    "Menu 보다는 앞의 cafe 이름이 나오는 것이 바람직!"
   ]
  },
  {
   "cell_type": "code",
   "execution_count": 65,
   "metadata": {},
   "outputs": [
    {
     "data": {
      "text/html": [
       "<div>\n",
       "<style scoped>\n",
       "    .dataframe tbody tr th:only-of-type {\n",
       "        vertical-align: middle;\n",
       "    }\n",
       "\n",
       "    .dataframe tbody tr th {\n",
       "        vertical-align: top;\n",
       "    }\n",
       "\n",
       "    .dataframe thead th {\n",
       "        text-align: right;\n",
       "    }\n",
       "</style>\n",
       "<table border=\"1\" class=\"dataframe\">\n",
       "  <thead>\n",
       "    <tr style=\"text-align: right;\">\n",
       "      <th></th>\n",
       "      <th>Rank</th>\n",
       "      <th>Cafe</th>\n",
       "      <th>Menu</th>\n",
       "      <th>URL</th>\n",
       "    </tr>\n",
       "  </thead>\n",
       "  <tbody>\n",
       "    <tr>\n",
       "      <th>0</th>\n",
       "      <td>1</td>\n",
       "      <td>Old Oak Tap</td>\n",
       "      <td>BLT</td>\n",
       "      <td>https://www.chicagomag.com/Chicago-Magazine/No...</td>\n",
       "    </tr>\n",
       "    <tr>\n",
       "      <th>1</th>\n",
       "      <td>2</td>\n",
       "      <td>Au Cheval</td>\n",
       "      <td>Fried Bologna</td>\n",
       "      <td>https://www.chicagomag.com/Chicago-Magazine/No...</td>\n",
       "    </tr>\n",
       "    <tr>\n",
       "      <th>2</th>\n",
       "      <td>3</td>\n",
       "      <td>Xoco</td>\n",
       "      <td>Woodland Mushroom</td>\n",
       "      <td>https://www.chicagomag.com/Chicago-Magazine/No...</td>\n",
       "    </tr>\n",
       "    <tr>\n",
       "      <th>3</th>\n",
       "      <td>4</td>\n",
       "      <td>Al’s Deli</td>\n",
       "      <td>Roast Beef</td>\n",
       "      <td>https://www.chicagomag.com/Chicago-Magazine/No...</td>\n",
       "    </tr>\n",
       "    <tr>\n",
       "      <th>4</th>\n",
       "      <td>5</td>\n",
       "      <td>Publican Quality Meats</td>\n",
       "      <td>PB&amp;L</td>\n",
       "      <td>https://www.chicagomag.com/Chicago-Magazine/No...</td>\n",
       "    </tr>\n",
       "  </tbody>\n",
       "</table>\n",
       "</div>"
      ],
      "text/plain": [
       "  Rank                    Cafe               Menu  \\\n",
       "0    1             Old Oak Tap                BLT   \n",
       "1    2               Au Cheval      Fried Bologna   \n",
       "2    3                    Xoco  Woodland Mushroom   \n",
       "3    4               Al’s Deli         Roast Beef   \n",
       "4    5  Publican Quality Meats               PB&L   \n",
       "\n",
       "                                                 URL  \n",
       "0  https://www.chicagomag.com/Chicago-Magazine/No...  \n",
       "1  https://www.chicagomag.com/Chicago-Magazine/No...  \n",
       "2  https://www.chicagomag.com/Chicago-Magazine/No...  \n",
       "3  https://www.chicagomag.com/Chicago-Magazine/No...  \n",
       "4  https://www.chicagomag.com/Chicago-Magazine/No...  "
      ]
     },
     "execution_count": 65,
     "metadata": {},
     "output_type": "execute_result"
    }
   ],
   "source": [
    "df = pd.DataFrame(\n",
    "      data\n",
    "    , columns=['Rank', 'Cafe', 'Menu', 'URL']\n",
    "    \n",
    ")\n",
    "df.head()"
   ]
  },
  {
   "cell_type": "code",
   "execution_count": 66,
   "metadata": {},
   "outputs": [],
   "source": [
    "# CSV 파일 저장\n",
    "df.to_csv(\n",
    "      './data_01/03. best_sandwiches_list_chicago.csv'\n",
    "    , encoding='utf-8'\n",
    "    , sep=','\n",
    ")"
   ]
  },
  {
   "cell_type": "markdown",
   "metadata": {},
   "source": [
    "### 하위 페이지 정보 추출\n",
    "- url 저장 해놓은 것은 서브 페이지 까지 갈 수 있음"
   ]
  },
  {
   "cell_type": "code",
   "execution_count": 67,
   "metadata": {},
   "outputs": [
    {
     "data": {
      "text/html": [
       "<div>\n",
       "<style scoped>\n",
       "    .dataframe tbody tr th:only-of-type {\n",
       "        vertical-align: middle;\n",
       "    }\n",
       "\n",
       "    .dataframe tbody tr th {\n",
       "        vertical-align: top;\n",
       "    }\n",
       "\n",
       "    .dataframe thead th {\n",
       "        text-align: right;\n",
       "    }\n",
       "</style>\n",
       "<table border=\"1\" class=\"dataframe\">\n",
       "  <thead>\n",
       "    <tr style=\"text-align: right;\">\n",
       "      <th></th>\n",
       "      <th>Rank</th>\n",
       "      <th>Cafe</th>\n",
       "      <th>Menu</th>\n",
       "      <th>URL</th>\n",
       "    </tr>\n",
       "  </thead>\n",
       "  <tbody>\n",
       "    <tr>\n",
       "      <th>0</th>\n",
       "      <td>1</td>\n",
       "      <td>Old Oak Tap</td>\n",
       "      <td>BLT</td>\n",
       "      <td>https://www.chicagomag.com/Chicago-Magazine/No...</td>\n",
       "    </tr>\n",
       "    <tr>\n",
       "      <th>1</th>\n",
       "      <td>2</td>\n",
       "      <td>Au Cheval</td>\n",
       "      <td>Fried Bologna</td>\n",
       "      <td>https://www.chicagomag.com/Chicago-Magazine/No...</td>\n",
       "    </tr>\n",
       "    <tr>\n",
       "      <th>2</th>\n",
       "      <td>3</td>\n",
       "      <td>Xoco</td>\n",
       "      <td>Woodland Mushroom</td>\n",
       "      <td>https://www.chicagomag.com/Chicago-Magazine/No...</td>\n",
       "    </tr>\n",
       "  </tbody>\n",
       "</table>\n",
       "</div>"
      ],
      "text/plain": [
       "  Rank         Cafe               Menu  \\\n",
       "0    1  Old Oak Tap                BLT   \n",
       "1    2    Au Cheval      Fried Bologna   \n",
       "2    3         Xoco  Woodland Mushroom   \n",
       "\n",
       "                                                 URL  \n",
       "0  https://www.chicagomag.com/Chicago-Magazine/No...  \n",
       "1  https://www.chicagomag.com/Chicago-Magazine/No...  \n",
       "2  https://www.chicagomag.com/Chicago-Magazine/No...  "
      ]
     },
     "execution_count": 67,
     "metadata": {},
     "output_type": "execute_result"
    }
   ],
   "source": [
    "df.head(3)"
   ]
  },
  {
   "cell_type": "markdown",
   "metadata": {},
   "source": [
    "#### 첫 번째 URL 가져와서 처리 코드"
   ]
  },
  {
   "cell_type": "code",
   "execution_count": 68,
   "metadata": {},
   "outputs": [
    {
     "data": {
      "text/plain": [
       "'https://www.chicagomag.com/Chicago-Magazine/November-2012/Best-Sandwiches-in-Chicago-Old-Oak-Tap-BLT/'"
      ]
     },
     "execution_count": 68,
     "metadata": {},
     "output_type": "execute_result"
    }
   ],
   "source": [
    "# 첫번째거 제대로 조회되는지 확인 => 정상적이면 50개 반복문 조회\n",
    "df['URL'][0]"
   ]
  },
  {
   "cell_type": "code",
   "execution_count": 69,
   "metadata": {},
   "outputs": [
    {
     "data": {
      "text/plain": [
       "<http.client.HTTPResponse at 0x1aa727a3cc8>"
      ]
     },
     "execution_count": 69,
     "metadata": {},
     "output_type": "execute_result"
    }
   ],
   "source": [
    "req = Request(\n",
    "    df['URL'][0]\n",
    "    , headers={'User-Agent':'Mozilla/5.0'}\n",
    ")\n",
    "html_ = urlopen(req)\n",
    "html_"
   ]
  },
  {
   "cell_type": "code",
   "execution_count": 70,
   "metadata": {},
   "outputs": [
    {
     "data": {
      "text/plain": [
       "bs4.BeautifulSoup"
      ]
     },
     "execution_count": 70,
     "metadata": {},
     "output_type": "execute_result"
    }
   ],
   "source": [
    "# Pasing\n",
    "soup_tmp = BeautifulSoup(html_, 'html.parser')\n",
    "type(soup_tmp)"
   ]
  },
  {
   "cell_type": "code",
   "execution_count": 71,
   "metadata": {},
   "outputs": [
    {
     "name": "stdout",
     "output_type": "stream",
     "text": [
      "<p class=\"addy\">\n",
      "<em>$10. 2109 W. Chicago Ave., 773-772-0406, <a href=\"http://www.theoldoaktap.com/\">theoldoaktap.com</a></em></p>\n"
     ]
    }
   ],
   "source": [
    "print(soup_tmp.find('p', class_='addy'))"
   ]
  },
  {
   "cell_type": "code",
   "execution_count": 72,
   "metadata": {},
   "outputs": [
    {
     "data": {
      "text/plain": [
       "'\\n$10. 2109 W. Chicago Ave., 773-772-0406, theoldoaktap.com'"
      ]
     },
     "execution_count": 72,
     "metadata": {},
     "output_type": "execute_result"
    }
   ],
   "source": [
    "price_tmp = soup_tmp.find('p', class_='addy').get_text()\n",
    "price_tmp"
   ]
  },
  {
   "cell_type": "code",
   "execution_count": 75,
   "metadata": {},
   "outputs": [
    {
     "data": {
      "text/plain": [
       "['$10.', '2109', 'W.', 'Chicago', 'Ave.,', '773-772-0406,', 'theoldoaktap.com']"
      ]
     },
     "execution_count": 75,
     "metadata": {},
     "output_type": "execute_result"
    }
   ],
   "source": [
    "price_tmp.split() # 디폴트 공백 분할"
   ]
  },
  {
   "cell_type": "code",
   "execution_count": 74,
   "metadata": {},
   "outputs": [
    {
     "data": {
      "text/plain": [
       "'$10'"
      ]
     },
     "execution_count": 74,
     "metadata": {},
     "output_type": "execute_result"
    }
   ],
   "source": [
    "price_tmp.split()[0][:-1]"
   ]
  },
  {
   "cell_type": "code",
   "execution_count": 78,
   "metadata": {},
   "outputs": [
    {
     "data": {
      "text/plain": [
       "['2109', 'W.', 'Chicago', 'Ave.,']"
      ]
     },
     "execution_count": 78,
     "metadata": {},
     "output_type": "execute_result"
    }
   ],
   "source": [
    "price_tmp.split()[1:-2]"
   ]
  },
  {
   "cell_type": "code",
   "execution_count": 79,
   "metadata": {},
   "outputs": [
    {
     "data": {
      "text/plain": [
       "'2109 W. Chicago Ave.,'"
      ]
     },
     "execution_count": 79,
     "metadata": {},
     "output_type": "execute_result"
    }
   ],
   "source": [
    "# 한 개의 문자열 변환 => 전체 주소 변환\n",
    "' '.join(price_tmp.split()[1:-2]) \n",
    "# 공백으로 나눠진 단어를 구분하여 문자열로 변환"
   ]
  },
  {
   "cell_type": "markdown",
   "metadata": {},
   "source": [
    "#### 리스트를 문자열로 바꿀 때 JOIN 사용!"
   ]
  },
  {
   "cell_type": "code",
   "execution_count": 80,
   "metadata": {},
   "outputs": [
    {
     "data": {
      "text/html": [
       "<div>\n",
       "<style scoped>\n",
       "    .dataframe tbody tr th:only-of-type {\n",
       "        vertical-align: middle;\n",
       "    }\n",
       "\n",
       "    .dataframe tbody tr th {\n",
       "        vertical-align: top;\n",
       "    }\n",
       "\n",
       "    .dataframe thead th {\n",
       "        text-align: right;\n",
       "    }\n",
       "</style>\n",
       "<table border=\"1\" class=\"dataframe\">\n",
       "  <thead>\n",
       "    <tr style=\"text-align: right;\">\n",
       "      <th></th>\n",
       "      <th>Rank</th>\n",
       "      <th>Cafe</th>\n",
       "      <th>Menu</th>\n",
       "      <th>URL</th>\n",
       "    </tr>\n",
       "  </thead>\n",
       "  <tbody>\n",
       "    <tr>\n",
       "      <th>0</th>\n",
       "      <td>1</td>\n",
       "      <td>Old Oak Tap</td>\n",
       "      <td>BLT</td>\n",
       "      <td>https://www.chicagomag.com/Chicago-Magazine/No...</td>\n",
       "    </tr>\n",
       "    <tr>\n",
       "      <th>1</th>\n",
       "      <td>2</td>\n",
       "      <td>Au Cheval</td>\n",
       "      <td>Fried Bologna</td>\n",
       "      <td>https://www.chicagomag.com/Chicago-Magazine/No...</td>\n",
       "    </tr>\n",
       "    <tr>\n",
       "      <th>2</th>\n",
       "      <td>3</td>\n",
       "      <td>Xoco</td>\n",
       "      <td>Woodland Mushroom</td>\n",
       "      <td>https://www.chicagomag.com/Chicago-Magazine/No...</td>\n",
       "    </tr>\n",
       "    <tr>\n",
       "      <th>3</th>\n",
       "      <td>4</td>\n",
       "      <td>Al’s Deli</td>\n",
       "      <td>Roast Beef</td>\n",
       "      <td>https://www.chicagomag.com/Chicago-Magazine/No...</td>\n",
       "    </tr>\n",
       "    <tr>\n",
       "      <th>4</th>\n",
       "      <td>5</td>\n",
       "      <td>Publican Quality Meats</td>\n",
       "      <td>PB&amp;L</td>\n",
       "      <td>https://www.chicagomag.com/Chicago-Magazine/No...</td>\n",
       "    </tr>\n",
       "    <tr>\n",
       "      <th>5</th>\n",
       "      <td>6</td>\n",
       "      <td>Hendrickx Belgian Bread Crafter</td>\n",
       "      <td>Belgian Chicken Curry Salad</td>\n",
       "      <td>http://www.chicagomag.com/Chicago-Magazine/Nov...</td>\n",
       "    </tr>\n",
       "    <tr>\n",
       "      <th>6</th>\n",
       "      <td>7</td>\n",
       "      <td>Acadia</td>\n",
       "      <td>Lobster Roll</td>\n",
       "      <td>https://www.chicagomag.com/Chicago-Magazine/No...</td>\n",
       "    </tr>\n",
       "    <tr>\n",
       "      <th>7</th>\n",
       "      <td>8</td>\n",
       "      <td>Birchwood Kitchen</td>\n",
       "      <td>Smoked Salmon Salad</td>\n",
       "      <td>https://www.chicagomag.com/Chicago-Magazine/No...</td>\n",
       "    </tr>\n",
       "    <tr>\n",
       "      <th>8</th>\n",
       "      <td>9</td>\n",
       "      <td>Cemitas Puebla</td>\n",
       "      <td>Atomica Cemitas</td>\n",
       "      <td>https://www.chicagomag.com/Chicago-Magazine/No...</td>\n",
       "    </tr>\n",
       "    <tr>\n",
       "      <th>9</th>\n",
       "      <td>10</td>\n",
       "      <td>Nana</td>\n",
       "      <td>Grilled Laughing Bird Shrimp and Fried Po’ Boy</td>\n",
       "      <td>https://www.chicagomag.com/Chicago-Magazine/No...</td>\n",
       "    </tr>\n",
       "    <tr>\n",
       "      <th>10</th>\n",
       "      <td>11</td>\n",
       "      <td>Lula Cafe</td>\n",
       "      <td>Ham and Raclette Panino</td>\n",
       "      <td>http://www.chicagomag.com/Chicago-Magazine/Nov...</td>\n",
       "    </tr>\n",
       "    <tr>\n",
       "      <th>11</th>\n",
       "      <td>12</td>\n",
       "      <td>Ricobene’s</td>\n",
       "      <td>Breaded Steak</td>\n",
       "      <td>http://www.chicagomag.com/Chicago-Magazine/Nov...</td>\n",
       "    </tr>\n",
       "    <tr>\n",
       "      <th>12</th>\n",
       "      <td>13</td>\n",
       "      <td>Frog n Snail</td>\n",
       "      <td>The Hawkeye</td>\n",
       "      <td>http://www.chicagomag.com/Chicago-Magazine/Nov...</td>\n",
       "    </tr>\n",
       "    <tr>\n",
       "      <th>13</th>\n",
       "      <td>14</td>\n",
       "      <td>Crosby’s Kitchen</td>\n",
       "      <td>Chicken Dip</td>\n",
       "      <td>http://www.chicagomag.com/Chicago-Magazine/Nov...</td>\n",
       "    </tr>\n",
       "    <tr>\n",
       "      <th>14</th>\n",
       "      <td>15</td>\n",
       "      <td>Longman &amp; Eagle</td>\n",
       "      <td>Wild Boar Sloppy Joe</td>\n",
       "      <td>http://www.chicagomag.com/Chicago-Magazine/Nov...</td>\n",
       "    </tr>\n",
       "    <tr>\n",
       "      <th>15</th>\n",
       "      <td>16</td>\n",
       "      <td>Bari</td>\n",
       "      <td>Meatball Sub</td>\n",
       "      <td>http://www.chicagomag.com/Chicago-Magazine/Nov...</td>\n",
       "    </tr>\n",
       "    <tr>\n",
       "      <th>16</th>\n",
       "      <td>17</td>\n",
       "      <td>Manny’s</td>\n",
       "      <td>Corned Beef</td>\n",
       "      <td>http://www.chicagomag.com/Chicago-Magazine/Nov...</td>\n",
       "    </tr>\n",
       "    <tr>\n",
       "      <th>17</th>\n",
       "      <td>18</td>\n",
       "      <td>Eggy’s</td>\n",
       "      <td>Turkey Club</td>\n",
       "      <td>http://www.chicagomag.com/Chicago-Magazine/Nov...</td>\n",
       "    </tr>\n",
       "    <tr>\n",
       "      <th>18</th>\n",
       "      <td>19</td>\n",
       "      <td>Old Jerusalem</td>\n",
       "      <td>Falafel</td>\n",
       "      <td>http://www.chicagomag.com/Chicago-Magazine/Nov...</td>\n",
       "    </tr>\n",
       "    <tr>\n",
       "      <th>19</th>\n",
       "      <td>20</td>\n",
       "      <td>Mindy’s HotChocolate</td>\n",
       "      <td>Crab Cake</td>\n",
       "      <td>http://www.chicagomag.com/Chicago-Magazine/Nov...</td>\n",
       "    </tr>\n",
       "    <tr>\n",
       "      <th>20</th>\n",
       "      <td>21</td>\n",
       "      <td>Olga’s Delicatessen</td>\n",
       "      <td>Chicken Schnitzel</td>\n",
       "      <td>http://www.chicagomag.com/Chicago-Magazine/Nov...</td>\n",
       "    </tr>\n",
       "    <tr>\n",
       "      <th>21</th>\n",
       "      <td>22</td>\n",
       "      <td>Dawali Mediterranean Kitchen</td>\n",
       "      <td>Shawarma</td>\n",
       "      <td>http://www.chicagomag.com/Chicago-Magazine/Nov...</td>\n",
       "    </tr>\n",
       "    <tr>\n",
       "      <th>22</th>\n",
       "      <td>23</td>\n",
       "      <td>Big Jones</td>\n",
       "      <td>Toasted Pimiento Cheese</td>\n",
       "      <td>http://www.chicagomag.com/Chicago-Magazine/Nov...</td>\n",
       "    </tr>\n",
       "    <tr>\n",
       "      <th>23</th>\n",
       "      <td>24</td>\n",
       "      <td>La Pane</td>\n",
       "      <td>Vegetarian Panino</td>\n",
       "      <td>http://www.chicagomag.com/Chicago-Magazine/Nov...</td>\n",
       "    </tr>\n",
       "    <tr>\n",
       "      <th>24</th>\n",
       "      <td>25</td>\n",
       "      <td>Pastoral</td>\n",
       "      <td>Cali Chèvre</td>\n",
       "      <td>https://www.chicagomag.com/Chicago-Magazine/No...</td>\n",
       "    </tr>\n",
       "    <tr>\n",
       "      <th>25</th>\n",
       "      <td>26</td>\n",
       "      <td>Max’s Deli</td>\n",
       "      <td>Pastrami</td>\n",
       "      <td>http://www.chicagomag.com/Chicago-Magazine/Nov...</td>\n",
       "    </tr>\n",
       "    <tr>\n",
       "      <th>26</th>\n",
       "      <td>27</td>\n",
       "      <td>Lucky’s Sandwich Co.</td>\n",
       "      <td>The Fredo</td>\n",
       "      <td>http://www.chicagomag.com/Chicago-Magazine/Nov...</td>\n",
       "    </tr>\n",
       "    <tr>\n",
       "      <th>27</th>\n",
       "      <td>28</td>\n",
       "      <td>City Provisions</td>\n",
       "      <td>Smoked Ham</td>\n",
       "      <td>http://www.chicagomag.com/Chicago-Magazine/Nov...</td>\n",
       "    </tr>\n",
       "    <tr>\n",
       "      <th>28</th>\n",
       "      <td>29</td>\n",
       "      <td>Papa’s Cache Sabroso</td>\n",
       "      <td>Jibarito</td>\n",
       "      <td>http://www.chicagomag.com/Chicago-Magazine/Nov...</td>\n",
       "    </tr>\n",
       "    <tr>\n",
       "      <th>29</th>\n",
       "      <td>30</td>\n",
       "      <td>Bavette’s Bar &amp; Boeuf</td>\n",
       "      <td>Shaved Prime Rib</td>\n",
       "      <td>http://www.chicagomag.com/Chicago-Magazine/Nov...</td>\n",
       "    </tr>\n",
       "    <tr>\n",
       "      <th>30</th>\n",
       "      <td>31</td>\n",
       "      <td>Hannah’s Bretzel</td>\n",
       "      <td>Serrano Ham and Manchego Cheese</td>\n",
       "      <td>http://www.chicagomag.com/Chicago-Magazine/Nov...</td>\n",
       "    </tr>\n",
       "    <tr>\n",
       "      <th>31</th>\n",
       "      <td>32</td>\n",
       "      <td>La Fournette</td>\n",
       "      <td>Tuna Salad</td>\n",
       "      <td>http://www.chicagomag.com/Chicago-Magazine/Nov...</td>\n",
       "    </tr>\n",
       "    <tr>\n",
       "      <th>32</th>\n",
       "      <td>33</td>\n",
       "      <td>Paramount Room</td>\n",
       "      <td>Paramount Reuben</td>\n",
       "      <td>http://www.chicagomag.com/Chicago-Magazine/Nov...</td>\n",
       "    </tr>\n",
       "    <tr>\n",
       "      <th>33</th>\n",
       "      <td>34</td>\n",
       "      <td>Melt Sandwich Shoppe</td>\n",
       "      <td>The Istanbul</td>\n",
       "      <td>http://www.chicagomag.com/Chicago-Magazine/Nov...</td>\n",
       "    </tr>\n",
       "    <tr>\n",
       "      <th>34</th>\n",
       "      <td>35</td>\n",
       "      <td>Floriole Cafe &amp; Bakery</td>\n",
       "      <td>B.A.D.</td>\n",
       "      <td>http://www.chicagomag.com/Chicago-Magazine/Nov...</td>\n",
       "    </tr>\n",
       "    <tr>\n",
       "      <th>35</th>\n",
       "      <td>36</td>\n",
       "      <td>First Slice Pie Café</td>\n",
       "      <td>Duck Confit and Mozzarella</td>\n",
       "      <td>http://www.chicagomag.com/Chicago-Magazine/Nov...</td>\n",
       "    </tr>\n",
       "    <tr>\n",
       "      <th>36</th>\n",
       "      <td>37</td>\n",
       "      <td>Troquet</td>\n",
       "      <td>Croque Monsieur</td>\n",
       "      <td>http://www.chicagomag.com/Chicago-Magazine/Nov...</td>\n",
       "    </tr>\n",
       "    <tr>\n",
       "      <th>37</th>\n",
       "      <td>38</td>\n",
       "      <td>Grahamwich</td>\n",
       "      <td>Green Garbanzo</td>\n",
       "      <td>http://www.chicagomag.com/Chicago-Magazine/Nov...</td>\n",
       "    </tr>\n",
       "    <tr>\n",
       "      <th>38</th>\n",
       "      <td>39</td>\n",
       "      <td>Saigon Sisters</td>\n",
       "      <td>The Hen House</td>\n",
       "      <td>http://www.chicagomag.com/Chicago-Magazine/Nov...</td>\n",
       "    </tr>\n",
       "    <tr>\n",
       "      <th>39</th>\n",
       "      <td>40</td>\n",
       "      <td>Rosalia’s Deli</td>\n",
       "      <td>Tuscan Chicken</td>\n",
       "      <td>http://www.chicagomag.com/Chicago-Magazine/Nov...</td>\n",
       "    </tr>\n",
       "    <tr>\n",
       "      <th>40</th>\n",
       "      <td>41</td>\n",
       "      <td>Z&amp;H MarketCafe</td>\n",
       "      <td>The Marty</td>\n",
       "      <td>http://www.chicagomag.com/Chicago-Magazine/Nov...</td>\n",
       "    </tr>\n",
       "    <tr>\n",
       "      <th>41</th>\n",
       "      <td>42</td>\n",
       "      <td>Market House on the Square</td>\n",
       "      <td>Whitefish</td>\n",
       "      <td>http://www.chicagomag.com/Chicago-Magazine/Nov...</td>\n",
       "    </tr>\n",
       "    <tr>\n",
       "      <th>42</th>\n",
       "      <td>43</td>\n",
       "      <td>Elaine’s Coffee Call</td>\n",
       "      <td>Oat Bread, Pecan Butter, and Fruit Jam</td>\n",
       "      <td>http://www.chicagomag.com/Chicago-Magazine/Nov...</td>\n",
       "    </tr>\n",
       "    <tr>\n",
       "      <th>43</th>\n",
       "      <td>44</td>\n",
       "      <td>Marion Street Cheese Market</td>\n",
       "      <td>Cauliflower Melt</td>\n",
       "      <td>http://www.chicagomag.com/Chicago-Magazine/Nov...</td>\n",
       "    </tr>\n",
       "    <tr>\n",
       "      <th>44</th>\n",
       "      <td>45</td>\n",
       "      <td>Cafecito</td>\n",
       "      <td>Cubana</td>\n",
       "      <td>http://www.chicagomag.com/Chicago-Magazine/Nov...</td>\n",
       "    </tr>\n",
       "    <tr>\n",
       "      <th>45</th>\n",
       "      <td>46</td>\n",
       "      <td>Chickpea</td>\n",
       "      <td>Kufta</td>\n",
       "      <td>http://www.chicagomag.com/Chicago-Magazine/Nov...</td>\n",
       "    </tr>\n",
       "    <tr>\n",
       "      <th>46</th>\n",
       "      <td>47</td>\n",
       "      <td>The Goddess and Grocer</td>\n",
       "      <td>Debbie’s Egg Salad</td>\n",
       "      <td>http://www.chicagomag.com/Chicago-Magazine/Nov...</td>\n",
       "    </tr>\n",
       "    <tr>\n",
       "      <th>47</th>\n",
       "      <td>48</td>\n",
       "      <td>Zenwich</td>\n",
       "      <td>Beef Curry</td>\n",
       "      <td>http://www.chicagomag.com/Chicago-Magazine/Nov...</td>\n",
       "    </tr>\n",
       "    <tr>\n",
       "      <th>48</th>\n",
       "      <td>49</td>\n",
       "      <td>Toni Patisserie</td>\n",
       "      <td>Le Végétarien</td>\n",
       "      <td>http://www.chicagomag.com/Chicago-Magazine/Nov...</td>\n",
       "    </tr>\n",
       "    <tr>\n",
       "      <th>49</th>\n",
       "      <td>50</td>\n",
       "      <td>Phoebe’s Bakery</td>\n",
       "      <td>The Gatsby</td>\n",
       "      <td>http://www.chicagomag.com/Chicago-Magazine/Nov...</td>\n",
       "    </tr>\n",
       "  </tbody>\n",
       "</table>\n",
       "</div>"
      ],
      "text/plain": [
       "   Rank                             Cafe  \\\n",
       "0     1                      Old Oak Tap   \n",
       "1     2                        Au Cheval   \n",
       "2     3                             Xoco   \n",
       "3     4                        Al’s Deli   \n",
       "4     5           Publican Quality Meats   \n",
       "5     6  Hendrickx Belgian Bread Crafter   \n",
       "6     7                           Acadia   \n",
       "7     8                Birchwood Kitchen   \n",
       "8     9                   Cemitas Puebla   \n",
       "9    10                             Nana   \n",
       "10   11                        Lula Cafe   \n",
       "11   12                       Ricobene’s   \n",
       "12   13                     Frog n Snail   \n",
       "13   14                 Crosby’s Kitchen   \n",
       "14   15                  Longman & Eagle   \n",
       "15   16                             Bari   \n",
       "16   17                          Manny’s   \n",
       "17   18                           Eggy’s   \n",
       "18   19                    Old Jerusalem   \n",
       "19   20             Mindy’s HotChocolate   \n",
       "20   21              Olga’s Delicatessen   \n",
       "21   22     Dawali Mediterranean Kitchen   \n",
       "22   23                        Big Jones   \n",
       "23   24                          La Pane   \n",
       "24   25                         Pastoral   \n",
       "25   26                       Max’s Deli   \n",
       "26   27             Lucky’s Sandwich Co.   \n",
       "27   28                  City Provisions   \n",
       "28   29             Papa’s Cache Sabroso   \n",
       "29   30            Bavette’s Bar & Boeuf   \n",
       "30   31                 Hannah’s Bretzel   \n",
       "31   32                     La Fournette   \n",
       "32   33                   Paramount Room   \n",
       "33   34             Melt Sandwich Shoppe   \n",
       "34   35           Floriole Cafe & Bakery   \n",
       "35   36             First Slice Pie Café   \n",
       "36   37                          Troquet   \n",
       "37   38                       Grahamwich   \n",
       "38   39                   Saigon Sisters   \n",
       "39   40                   Rosalia’s Deli   \n",
       "40   41                   Z&H MarketCafe   \n",
       "41   42       Market House on the Square   \n",
       "42   43             Elaine’s Coffee Call   \n",
       "43   44      Marion Street Cheese Market   \n",
       "44   45                         Cafecito   \n",
       "45   46                         Chickpea   \n",
       "46   47           The Goddess and Grocer   \n",
       "47   48                          Zenwich   \n",
       "48   49                  Toni Patisserie   \n",
       "49   50                  Phoebe’s Bakery   \n",
       "\n",
       "                                              Menu  \\\n",
       "0                                              BLT   \n",
       "1                                    Fried Bologna   \n",
       "2                                Woodland Mushroom   \n",
       "3                                       Roast Beef   \n",
       "4                                             PB&L   \n",
       "5                      Belgian Chicken Curry Salad   \n",
       "6                                     Lobster Roll   \n",
       "7                              Smoked Salmon Salad   \n",
       "8                                  Atomica Cemitas   \n",
       "9   Grilled Laughing Bird Shrimp and Fried Po’ Boy   \n",
       "10                         Ham and Raclette Panino   \n",
       "11                                   Breaded Steak   \n",
       "12                                     The Hawkeye   \n",
       "13                                     Chicken Dip   \n",
       "14                            Wild Boar Sloppy Joe   \n",
       "15                                    Meatball Sub   \n",
       "16                                     Corned Beef   \n",
       "17                                     Turkey Club   \n",
       "18                                         Falafel   \n",
       "19                                       Crab Cake   \n",
       "20                               Chicken Schnitzel   \n",
       "21                                        Shawarma   \n",
       "22                         Toasted Pimiento Cheese   \n",
       "23                               Vegetarian Panino   \n",
       "24                                     Cali Chèvre   \n",
       "25                                        Pastrami   \n",
       "26                                       The Fredo   \n",
       "27                                      Smoked Ham   \n",
       "28                                        Jibarito   \n",
       "29                                Shaved Prime Rib   \n",
       "30                 Serrano Ham and Manchego Cheese   \n",
       "31                                      Tuna Salad   \n",
       "32                                Paramount Reuben   \n",
       "33                                    The Istanbul   \n",
       "34                                          B.A.D.   \n",
       "35                      Duck Confit and Mozzarella   \n",
       "36                                 Croque Monsieur   \n",
       "37                                  Green Garbanzo   \n",
       "38                                   The Hen House   \n",
       "39                                  Tuscan Chicken   \n",
       "40                                      The Marty    \n",
       "41                                       Whitefish   \n",
       "42          Oat Bread, Pecan Butter, and Fruit Jam   \n",
       "43                                Cauliflower Melt   \n",
       "44                                          Cubana   \n",
       "45                                           Kufta   \n",
       "46                              Debbie’s Egg Salad   \n",
       "47                                      Beef Curry   \n",
       "48                                   Le Végétarien   \n",
       "49                                      The Gatsby   \n",
       "\n",
       "                                                  URL  \n",
       "0   https://www.chicagomag.com/Chicago-Magazine/No...  \n",
       "1   https://www.chicagomag.com/Chicago-Magazine/No...  \n",
       "2   https://www.chicagomag.com/Chicago-Magazine/No...  \n",
       "3   https://www.chicagomag.com/Chicago-Magazine/No...  \n",
       "4   https://www.chicagomag.com/Chicago-Magazine/No...  \n",
       "5   http://www.chicagomag.com/Chicago-Magazine/Nov...  \n",
       "6   https://www.chicagomag.com/Chicago-Magazine/No...  \n",
       "7   https://www.chicagomag.com/Chicago-Magazine/No...  \n",
       "8   https://www.chicagomag.com/Chicago-Magazine/No...  \n",
       "9   https://www.chicagomag.com/Chicago-Magazine/No...  \n",
       "10  http://www.chicagomag.com/Chicago-Magazine/Nov...  \n",
       "11  http://www.chicagomag.com/Chicago-Magazine/Nov...  \n",
       "12  http://www.chicagomag.com/Chicago-Magazine/Nov...  \n",
       "13  http://www.chicagomag.com/Chicago-Magazine/Nov...  \n",
       "14  http://www.chicagomag.com/Chicago-Magazine/Nov...  \n",
       "15  http://www.chicagomag.com/Chicago-Magazine/Nov...  \n",
       "16  http://www.chicagomag.com/Chicago-Magazine/Nov...  \n",
       "17  http://www.chicagomag.com/Chicago-Magazine/Nov...  \n",
       "18  http://www.chicagomag.com/Chicago-Magazine/Nov...  \n",
       "19  http://www.chicagomag.com/Chicago-Magazine/Nov...  \n",
       "20  http://www.chicagomag.com/Chicago-Magazine/Nov...  \n",
       "21  http://www.chicagomag.com/Chicago-Magazine/Nov...  \n",
       "22  http://www.chicagomag.com/Chicago-Magazine/Nov...  \n",
       "23  http://www.chicagomag.com/Chicago-Magazine/Nov...  \n",
       "24  https://www.chicagomag.com/Chicago-Magazine/No...  \n",
       "25  http://www.chicagomag.com/Chicago-Magazine/Nov...  \n",
       "26  http://www.chicagomag.com/Chicago-Magazine/Nov...  \n",
       "27  http://www.chicagomag.com/Chicago-Magazine/Nov...  \n",
       "28  http://www.chicagomag.com/Chicago-Magazine/Nov...  \n",
       "29  http://www.chicagomag.com/Chicago-Magazine/Nov...  \n",
       "30  http://www.chicagomag.com/Chicago-Magazine/Nov...  \n",
       "31  http://www.chicagomag.com/Chicago-Magazine/Nov...  \n",
       "32  http://www.chicagomag.com/Chicago-Magazine/Nov...  \n",
       "33  http://www.chicagomag.com/Chicago-Magazine/Nov...  \n",
       "34  http://www.chicagomag.com/Chicago-Magazine/Nov...  \n",
       "35  http://www.chicagomag.com/Chicago-Magazine/Nov...  \n",
       "36  http://www.chicagomag.com/Chicago-Magazine/Nov...  \n",
       "37  http://www.chicagomag.com/Chicago-Magazine/Nov...  \n",
       "38  http://www.chicagomag.com/Chicago-Magazine/Nov...  \n",
       "39  http://www.chicagomag.com/Chicago-Magazine/Nov...  \n",
       "40  http://www.chicagomag.com/Chicago-Magazine/Nov...  \n",
       "41  http://www.chicagomag.com/Chicago-Magazine/Nov...  \n",
       "42  http://www.chicagomag.com/Chicago-Magazine/Nov...  \n",
       "43  http://www.chicagomag.com/Chicago-Magazine/Nov...  \n",
       "44  http://www.chicagomag.com/Chicago-Magazine/Nov...  \n",
       "45  http://www.chicagomag.com/Chicago-Magazine/Nov...  \n",
       "46  http://www.chicagomag.com/Chicago-Magazine/Nov...  \n",
       "47  http://www.chicagomag.com/Chicago-Magazine/Nov...  \n",
       "48  http://www.chicagomag.com/Chicago-Magazine/Nov...  \n",
       "49  http://www.chicagomag.com/Chicago-Magazine/Nov...  "
      ]
     },
     "execution_count": 80,
     "metadata": {},
     "output_type": "execute_result"
    }
   ],
   "source": [
    "df"
   ]
  },
  {
   "cell_type": "code",
   "execution_count": 88,
   "metadata": {},
   "outputs": [],
   "source": [
    "# 50개의 서브 사이트를 접근하여 정보(가격, 주소) 추출\n",
    "# 3개 처리\n",
    "price = []\n",
    "address = []\n",
    "\n",
    "for n in df.index[:3]: # 3번만 반복\n",
    "    # 1. 서브 사이트 추출\n",
    "    req = Request(df['URL'][n], headers={'User-Agent':'Mozilla/5.0'})\n",
    "    html_=urlopen(req)\n",
    "    soup_tmp = BeautifulSoup(html_, 'html.parser') #lxml install \n",
    "    \n",
    "    # 2. 추출\n",
    "    get_str = soup_tmp.find('p', class_='addy').get_text()\n",
    "    \n",
    "    # 3. 리스트에 추가\n",
    "    price.append(get_str.split()[0][:-1]) # 가격\n",
    "    address.append(' '.join(get_str.split()[1:-2]))"
   ]
  },
  {
   "cell_type": "code",
   "execution_count": 84,
   "metadata": {},
   "outputs": [
    {
     "data": {
      "text/plain": [
       "['$10', '$9', '$9.50']"
      ]
     },
     "execution_count": 84,
     "metadata": {},
     "output_type": "execute_result"
    }
   ],
   "source": [
    "price"
   ]
  },
  {
   "cell_type": "code",
   "execution_count": 85,
   "metadata": {},
   "outputs": [
    {
     "data": {
      "text/plain": [
       "['2109 W. Chicago Ave.,', '800 W. Randolph St.,', '445 N. Clark St.,']"
      ]
     },
     "execution_count": 85,
     "metadata": {},
     "output_type": "execute_result"
    }
   ],
   "source": [
    "address"
   ]
  },
  {
   "cell_type": "code",
   "execution_count": 91,
   "metadata": {},
   "outputs": [],
   "source": [
    "from tqdm import tqdm # 앞은 모듈 뒤는 function\n",
    "from time import sleep"
   ]
  },
  {
   "cell_type": "code",
   "execution_count": 94,
   "metadata": {},
   "outputs": [
    {
     "name": "stderr",
     "output_type": "stream",
     "text": [
      "100%|████████████████████████████████████████████████████████████████████████████████████| 4/4 [00:04<00:00,  1.01s/it]"
     ]
    },
    {
     "name": "stdout",
     "output_type": "stream",
     "text": [
      "abcd\n"
     ]
    },
    {
     "name": "stderr",
     "output_type": "stream",
     "text": [
      "\n"
     ]
    }
   ],
   "source": [
    "text = ''\n",
    "for char in tqdm(['a','b','c','d']):\n",
    "    sleep(1)\n",
    "    text = text + char\n",
    "    \n",
    "print(text)"
   ]
  },
  {
   "cell_type": "code",
   "execution_count": 95,
   "metadata": {},
   "outputs": [
    {
     "name": "stderr",
     "output_type": "stream",
     "text": [
      "100%|██████████████████████████████████████████████████████████████████████████████████| 50/50 [01:08<00:00,  1.36s/it]\n"
     ]
    }
   ],
   "source": [
    "# 50개의 서브 사이트를 접근하여 정보(가격, 주소) 추출\n",
    "price = []\n",
    "address = []\n",
    "\n",
    "for n in tqdm(df.index): # 전체 인덱스 수만큼 반복\n",
    "    # 1. 서브 사이트 추출\n",
    "    req = Request(df['URL'][n], headers={'User-Agent':'Mozilla/5.0'})\n",
    "    html_=urlopen(req)\n",
    "    soup_tmp = BeautifulSoup(html_, 'html.parser') #lxml install \n",
    "    \n",
    "    # 2. 추출\n",
    "    get_str = soup_tmp.find('p', class_='addy').get_text()\n",
    "    \n",
    "    # 3. 리스트에 추가\n",
    "    price.append(get_str.split()[0][:-1]) # 가격\n",
    "    address.append(' '.join(get_str.split()[1:-2]))"
   ]
  },
  {
   "cell_type": "code",
   "execution_count": 96,
   "metadata": {},
   "outputs": [
    {
     "data": {
      "text/plain": [
       "['$10',\n",
       " '$9',\n",
       " '$9.50',\n",
       " '$9.40',\n",
       " '$10',\n",
       " '$7.25',\n",
       " '$16',\n",
       " '$10',\n",
       " '$9',\n",
       " '$17',\n",
       " '$11',\n",
       " '$5.49',\n",
       " '$14',\n",
       " '$10',\n",
       " '$13',\n",
       " '$4.50',\n",
       " '$11.95',\n",
       " '$11.50',\n",
       " '$6.25',\n",
       " '$15',\n",
       " '$5',\n",
       " '$6',\n",
       " '$8',\n",
       " '$5.99',\n",
       " '$7.52',\n",
       " '$11.95',\n",
       " '$7.50',\n",
       " '$12.95',\n",
       " '$7',\n",
       " '$21',\n",
       " '$9.79',\n",
       " '$9.75',\n",
       " '$13',\n",
       " '$7.95',\n",
       " '$9',\n",
       " '$9',\n",
       " '$8',\n",
       " '$8',\n",
       " '$7',\n",
       " '$6',\n",
       " '$7.25',\n",
       " '$11',\n",
       " '$6',\n",
       " '$9',\n",
       " '$5.49',\n",
       " '$8',\n",
       " '$6.50',\n",
       " '$7.50',\n",
       " '$8.75',\n",
       " '$6.85']"
      ]
     },
     "execution_count": 96,
     "metadata": {},
     "output_type": "execute_result"
    }
   ],
   "source": [
    "price"
   ]
  },
  {
   "cell_type": "code",
   "execution_count": 97,
   "metadata": {},
   "outputs": [
    {
     "data": {
      "text/plain": [
       "['2109 W. Chicago Ave.,',\n",
       " '800 W. Randolph St.,',\n",
       " '445 N. Clark St.,',\n",
       " '914 Noyes St., Evanston,',\n",
       " '825 W. Fulton Mkt.,',\n",
       " '100 E. Walton',\n",
       " '1639 S. Wabash Ave.,',\n",
       " '2211 W. North Ave.,',\n",
       " '3619 W. North Ave.,',\n",
       " '3267 S. Halsted St.,',\n",
       " '2537 N. Kedzie Blvd.,',\n",
       " 'Multiple',\n",
       " '3124 N. Broadway,',\n",
       " '3455 N. Southport Ave.,',\n",
       " '2657 N. Kedzie Ave.,',\n",
       " '1120 W. Grand Ave.,',\n",
       " '1141 S. Jefferson St.,',\n",
       " '333 E. Benton Pl.,',\n",
       " '1411 N. Wells St.,',\n",
       " '1747 N. Damen Ave.,',\n",
       " '3209 W. Irving Park',\n",
       " 'Multiple',\n",
       " '5347 N. Clark St.,',\n",
       " '2954 W. Irving Park Rd.,',\n",
       " 'Multiple',\n",
       " '191 Skokie Valley Rd., Highland Park,',\n",
       " 'Multiple',\n",
       " '1818 W. Wilson Ave.,',\n",
       " '2517 W. Division St.,',\n",
       " '218 W. Kinzie',\n",
       " 'Multiple',\n",
       " '1547 N. Wells St.,',\n",
       " '415 N. Milwaukee Ave.,',\n",
       " '1840 N. Damen Ave.,',\n",
       " '1220 W. Webster Ave.,',\n",
       " '5357 N. Ashland Ave.,',\n",
       " '1834 W. Montrose Ave.,',\n",
       " '615 N. State St.,',\n",
       " 'Multiple',\n",
       " '241 N. York Rd., Elmhurst,',\n",
       " '1323 E. 57th St.,',\n",
       " '655 Forest Ave., Lake Forest,',\n",
       " 'Hotel Lincoln, 1816 N. Clark St.,',\n",
       " '100 S. Marion St., Oak Park,',\n",
       " '26 E. Congress Pkwy.,',\n",
       " '2018 W. Chicago Ave.,',\n",
       " '25 E. Delaware Pl.,',\n",
       " '416 N. York St., Elmhurst,',\n",
       " '65 E. Washington St.,',\n",
       " '3351 N. Broadway,']"
      ]
     },
     "execution_count": 97,
     "metadata": {},
     "output_type": "execute_result"
    }
   ],
   "source": [
    "address"
   ]
  },
  {
   "cell_type": "code",
   "execution_count": 99,
   "metadata": {},
   "outputs": [
    {
     "data": {
      "text/html": [
       "<div>\n",
       "<style scoped>\n",
       "    .dataframe tbody tr th:only-of-type {\n",
       "        vertical-align: middle;\n",
       "    }\n",
       "\n",
       "    .dataframe tbody tr th {\n",
       "        vertical-align: top;\n",
       "    }\n",
       "\n",
       "    .dataframe thead th {\n",
       "        text-align: right;\n",
       "    }\n",
       "</style>\n",
       "<table border=\"1\" class=\"dataframe\">\n",
       "  <thead>\n",
       "    <tr style=\"text-align: right;\">\n",
       "      <th></th>\n",
       "      <th>Rank</th>\n",
       "      <th>Cafe</th>\n",
       "      <th>Menu</th>\n",
       "      <th>URL</th>\n",
       "      <th>price</th>\n",
       "      <th>Address</th>\n",
       "    </tr>\n",
       "  </thead>\n",
       "  <tbody>\n",
       "    <tr>\n",
       "      <th>0</th>\n",
       "      <td>1</td>\n",
       "      <td>Old Oak Tap</td>\n",
       "      <td>BLT</td>\n",
       "      <td>https://www.chicagomag.com/Chicago-Magazine/No...</td>\n",
       "      <td>$10</td>\n",
       "      <td>2109 W. Chicago Ave.,</td>\n",
       "    </tr>\n",
       "    <tr>\n",
       "      <th>1</th>\n",
       "      <td>2</td>\n",
       "      <td>Au Cheval</td>\n",
       "      <td>Fried Bologna</td>\n",
       "      <td>https://www.chicagomag.com/Chicago-Magazine/No...</td>\n",
       "      <td>$9</td>\n",
       "      <td>800 W. Randolph St.,</td>\n",
       "    </tr>\n",
       "    <tr>\n",
       "      <th>2</th>\n",
       "      <td>3</td>\n",
       "      <td>Xoco</td>\n",
       "      <td>Woodland Mushroom</td>\n",
       "      <td>https://www.chicagomag.com/Chicago-Magazine/No...</td>\n",
       "      <td>$9.50</td>\n",
       "      <td>445 N. Clark St.,</td>\n",
       "    </tr>\n",
       "    <tr>\n",
       "      <th>3</th>\n",
       "      <td>4</td>\n",
       "      <td>Al’s Deli</td>\n",
       "      <td>Roast Beef</td>\n",
       "      <td>https://www.chicagomag.com/Chicago-Magazine/No...</td>\n",
       "      <td>$9.40</td>\n",
       "      <td>914 Noyes St., Evanston,</td>\n",
       "    </tr>\n",
       "    <tr>\n",
       "      <th>4</th>\n",
       "      <td>5</td>\n",
       "      <td>Publican Quality Meats</td>\n",
       "      <td>PB&amp;L</td>\n",
       "      <td>https://www.chicagomag.com/Chicago-Magazine/No...</td>\n",
       "      <td>$10</td>\n",
       "      <td>825 W. Fulton Mkt.,</td>\n",
       "    </tr>\n",
       "  </tbody>\n",
       "</table>\n",
       "</div>"
      ],
      "text/plain": [
       "  Rank                    Cafe               Menu  \\\n",
       "0    1             Old Oak Tap                BLT   \n",
       "1    2               Au Cheval      Fried Bologna   \n",
       "2    3                    Xoco  Woodland Mushroom   \n",
       "3    4               Al’s Deli         Roast Beef   \n",
       "4    5  Publican Quality Meats               PB&L   \n",
       "\n",
       "                                                 URL  price  \\\n",
       "0  https://www.chicagomag.com/Chicago-Magazine/No...    $10   \n",
       "1  https://www.chicagomag.com/Chicago-Magazine/No...     $9   \n",
       "2  https://www.chicagomag.com/Chicago-Magazine/No...  $9.50   \n",
       "3  https://www.chicagomag.com/Chicago-Magazine/No...  $9.40   \n",
       "4  https://www.chicagomag.com/Chicago-Magazine/No...    $10   \n",
       "\n",
       "                    Address  \n",
       "0     2109 W. Chicago Ave.,  \n",
       "1      800 W. Randolph St.,  \n",
       "2         445 N. Clark St.,  \n",
       "3  914 Noyes St., Evanston,  \n",
       "4       825 W. Fulton Mkt.,  "
      ]
     },
     "execution_count": 99,
     "metadata": {},
     "output_type": "execute_result"
    }
   ],
   "source": [
    "df['price'] = price\n",
    "df['Address'] = address\n",
    "df.head()"
   ]
  },
  {
   "cell_type": "code",
   "execution_count": 104,
   "metadata": {},
   "outputs": [
    {
     "data": {
      "text/html": [
       "<div>\n",
       "<style scoped>\n",
       "    .dataframe tbody tr th:only-of-type {\n",
       "        vertical-align: middle;\n",
       "    }\n",
       "\n",
       "    .dataframe tbody tr th {\n",
       "        vertical-align: top;\n",
       "    }\n",
       "\n",
       "    .dataframe thead th {\n",
       "        text-align: right;\n",
       "    }\n",
       "</style>\n",
       "<table border=\"1\" class=\"dataframe\">\n",
       "  <thead>\n",
       "    <tr style=\"text-align: right;\">\n",
       "      <th></th>\n",
       "      <th>Cafe</th>\n",
       "      <th>Menu</th>\n",
       "      <th>price</th>\n",
       "      <th>Address</th>\n",
       "    </tr>\n",
       "    <tr>\n",
       "      <th>Rank</th>\n",
       "      <th></th>\n",
       "      <th></th>\n",
       "      <th></th>\n",
       "      <th></th>\n",
       "    </tr>\n",
       "  </thead>\n",
       "  <tbody>\n",
       "    <tr>\n",
       "      <th>1</th>\n",
       "      <td>Old Oak Tap</td>\n",
       "      <td>BLT</td>\n",
       "      <td>$10</td>\n",
       "      <td>2109 W. Chicago Ave.,</td>\n",
       "    </tr>\n",
       "    <tr>\n",
       "      <th>2</th>\n",
       "      <td>Au Cheval</td>\n",
       "      <td>Fried Bologna</td>\n",
       "      <td>$9</td>\n",
       "      <td>800 W. Randolph St.,</td>\n",
       "    </tr>\n",
       "    <tr>\n",
       "      <th>3</th>\n",
       "      <td>Xoco</td>\n",
       "      <td>Woodland Mushroom</td>\n",
       "      <td>$9.50</td>\n",
       "      <td>445 N. Clark St.,</td>\n",
       "    </tr>\n",
       "    <tr>\n",
       "      <th>4</th>\n",
       "      <td>Al’s Deli</td>\n",
       "      <td>Roast Beef</td>\n",
       "      <td>$9.40</td>\n",
       "      <td>914 Noyes St., Evanston,</td>\n",
       "    </tr>\n",
       "    <tr>\n",
       "      <th>5</th>\n",
       "      <td>Publican Quality Meats</td>\n",
       "      <td>PB&amp;L</td>\n",
       "      <td>$10</td>\n",
       "      <td>825 W. Fulton Mkt.,</td>\n",
       "    </tr>\n",
       "  </tbody>\n",
       "</table>\n",
       "</div>"
      ],
      "text/plain": [
       "                        Cafe               Menu  price  \\\n",
       "Rank                                                     \n",
       "1                Old Oak Tap                BLT    $10   \n",
       "2                  Au Cheval      Fried Bologna     $9   \n",
       "3                       Xoco  Woodland Mushroom  $9.50   \n",
       "4                  Al’s Deli         Roast Beef  $9.40   \n",
       "5     Publican Quality Meats               PB&L    $10   \n",
       "\n",
       "                       Address  \n",
       "Rank                            \n",
       "1        2109 W. Chicago Ave.,  \n",
       "2         800 W. Randolph St.,  \n",
       "3            445 N. Clark St.,  \n",
       "4     914 Noyes St., Evanston,  \n",
       "5          825 W. Fulton Mkt.,  "
      ]
     },
     "execution_count": 104,
     "metadata": {},
     "output_type": "execute_result"
    }
   ],
   "source": [
    "df = df.loc[:, ['Rank', 'Cafe', 'Menu', 'price', 'Address']]\n",
    "df.set_index('Rank', inplace=True) # 특정 컬럼을 인덱스 만들어라\n",
    "df.head()"
   ]
  },
  {
   "cell_type": "code",
   "execution_count": null,
   "metadata": {},
   "outputs": [],
   "source": []
  }
 ],
 "metadata": {
  "kernelspec": {
   "display_name": "dev-ml",
   "language": "python",
   "name": "dev-ml"
  },
  "language_info": {
   "codemirror_mode": {
    "name": "ipython",
    "version": 3
   },
   "file_extension": ".py",
   "mimetype": "text/x-python",
   "name": "python",
   "nbconvert_exporter": "python",
   "pygments_lexer": "ipython3",
   "version": "3.7.10"
  }
 },
 "nbformat": 4,
 "nbformat_minor": 4
}
